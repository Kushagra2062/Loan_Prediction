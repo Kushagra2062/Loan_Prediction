{
 "cells": [
  {
   "cell_type": "code",
   "execution_count": 109,
   "metadata": {},
   "outputs": [
    {
     "data": {
      "text/html": [
       "<div>\n",
       "<style scoped>\n",
       "    .dataframe tbody tr th:only-of-type {\n",
       "        vertical-align: middle;\n",
       "    }\n",
       "\n",
       "    .dataframe tbody tr th {\n",
       "        vertical-align: top;\n",
       "    }\n",
       "\n",
       "    .dataframe thead th {\n",
       "        text-align: right;\n",
       "    }\n",
       "</style>\n",
       "<table border=\"1\" class=\"dataframe\">\n",
       "  <thead>\n",
       "    <tr style=\"text-align: right;\">\n",
       "      <th></th>\n",
       "      <th>Loan_ID</th>\n",
       "      <th>loan_status</th>\n",
       "      <th>Principal</th>\n",
       "      <th>terms</th>\n",
       "      <th>effective_date</th>\n",
       "      <th>due_date</th>\n",
       "      <th>paid_off_time</th>\n",
       "      <th>past_due_days</th>\n",
       "      <th>age</th>\n",
       "      <th>education</th>\n",
       "      <th>Gender</th>\n",
       "    </tr>\n",
       "  </thead>\n",
       "  <tbody>\n",
       "    <tr>\n",
       "      <th>0</th>\n",
       "      <td>xqd20166231</td>\n",
       "      <td>PAIDOFF</td>\n",
       "      <td>1000</td>\n",
       "      <td>30</td>\n",
       "      <td>9/8/2016</td>\n",
       "      <td>10/7/2016</td>\n",
       "      <td>9/14/2016 19:31</td>\n",
       "      <td>NaN</td>\n",
       "      <td>45</td>\n",
       "      <td>High School or Below</td>\n",
       "      <td>male</td>\n",
       "    </tr>\n",
       "    <tr>\n",
       "      <th>1</th>\n",
       "      <td>xqd20168902</td>\n",
       "      <td>PAIDOFF</td>\n",
       "      <td>1000</td>\n",
       "      <td>30</td>\n",
       "      <td>9/8/2016</td>\n",
       "      <td>10/7/2016</td>\n",
       "      <td>10/7/2016 9:00</td>\n",
       "      <td>NaN</td>\n",
       "      <td>50</td>\n",
       "      <td>Bechalor</td>\n",
       "      <td>female</td>\n",
       "    </tr>\n",
       "    <tr>\n",
       "      <th>2</th>\n",
       "      <td>xqd20160003</td>\n",
       "      <td>PAIDOFF</td>\n",
       "      <td>1000</td>\n",
       "      <td>30</td>\n",
       "      <td>9/8/2016</td>\n",
       "      <td>10/7/2016</td>\n",
       "      <td>9/25/2016 16:58</td>\n",
       "      <td>NaN</td>\n",
       "      <td>33</td>\n",
       "      <td>Bechalor</td>\n",
       "      <td>female</td>\n",
       "    </tr>\n",
       "    <tr>\n",
       "      <th>3</th>\n",
       "      <td>xqd20160004</td>\n",
       "      <td>PAIDOFF</td>\n",
       "      <td>1000</td>\n",
       "      <td>15</td>\n",
       "      <td>9/8/2016</td>\n",
       "      <td>9/22/2016</td>\n",
       "      <td>9/22/2016 20:00</td>\n",
       "      <td>NaN</td>\n",
       "      <td>27</td>\n",
       "      <td>college</td>\n",
       "      <td>male</td>\n",
       "    </tr>\n",
       "    <tr>\n",
       "      <th>4</th>\n",
       "      <td>xqd20160005</td>\n",
       "      <td>PAIDOFF</td>\n",
       "      <td>1000</td>\n",
       "      <td>30</td>\n",
       "      <td>9/9/2016</td>\n",
       "      <td>10/8/2016</td>\n",
       "      <td>9/23/2016 21:36</td>\n",
       "      <td>NaN</td>\n",
       "      <td>28</td>\n",
       "      <td>college</td>\n",
       "      <td>female</td>\n",
       "    </tr>\n",
       "  </tbody>\n",
       "</table>\n",
       "</div>"
      ],
      "text/plain": [
       "       Loan_ID loan_status  Principal  terms effective_date   due_date  \\\n",
       "0  xqd20166231     PAIDOFF       1000     30       9/8/2016  10/7/2016   \n",
       "1  xqd20168902     PAIDOFF       1000     30       9/8/2016  10/7/2016   \n",
       "2  xqd20160003     PAIDOFF       1000     30       9/8/2016  10/7/2016   \n",
       "3  xqd20160004     PAIDOFF       1000     15       9/8/2016  9/22/2016   \n",
       "4  xqd20160005     PAIDOFF       1000     30       9/9/2016  10/8/2016   \n",
       "\n",
       "     paid_off_time  past_due_days  age             education  Gender  \n",
       "0  9/14/2016 19:31            NaN   45  High School or Below    male  \n",
       "1   10/7/2016 9:00            NaN   50              Bechalor  female  \n",
       "2  9/25/2016 16:58            NaN   33              Bechalor  female  \n",
       "3  9/22/2016 20:00            NaN   27               college    male  \n",
       "4  9/23/2016 21:36            NaN   28               college  female  "
      ]
     },
     "execution_count": 109,
     "metadata": {},
     "output_type": "execute_result"
    }
   ],
   "source": [
    "import pandas as pd\n",
    "import numpy as np\n",
    "import seaborn as sns\n",
    "import matplotlib.pyplot as plt\n",
    "import plotly.express as px\n",
    "from sklearn.preprocessing import LabelEncoder\n",
    "from sklearn.neighbors import KNeighborsClassifier\n",
    "\n",
    "loan=pd.read_csv(\"C:/Users/Kushagra/Desktop/Data Science learnings/Datasets/Loan payments data.csv\")\n",
    "loan.head()"
   ]
  },
  {
   "cell_type": "code",
   "execution_count": 110,
   "metadata": {},
   "outputs": [
    {
     "data": {
      "text/plain": [
       "(500, 11)"
      ]
     },
     "execution_count": 110,
     "metadata": {},
     "output_type": "execute_result"
    }
   ],
   "source": [
    "loan.shape"
   ]
  },
  {
   "cell_type": "code",
   "execution_count": 111,
   "metadata": {},
   "outputs": [
    {
     "data": {
      "text/plain": [
       "0"
      ]
     },
     "execution_count": 111,
     "metadata": {},
     "output_type": "execute_result"
    }
   ],
   "source": [
    "loan.duplicated().sum()"
   ]
  },
  {
   "cell_type": "code",
   "execution_count": 112,
   "metadata": {},
   "outputs": [
    {
     "name": "stdout",
     "output_type": "stream",
     "text": [
      "<class 'pandas.core.frame.DataFrame'>\n",
      "RangeIndex: 500 entries, 0 to 499\n",
      "Data columns (total 11 columns):\n",
      " #   Column          Non-Null Count  Dtype  \n",
      "---  ------          --------------  -----  \n",
      " 0   Loan_ID         500 non-null    object \n",
      " 1   loan_status     500 non-null    object \n",
      " 2   Principal       500 non-null    int64  \n",
      " 3   terms           500 non-null    int64  \n",
      " 4   effective_date  500 non-null    object \n",
      " 5   due_date        500 non-null    object \n",
      " 6   paid_off_time   400 non-null    object \n",
      " 7   past_due_days   200 non-null    float64\n",
      " 8   age             500 non-null    int64  \n",
      " 9   education       500 non-null    object \n",
      " 10  Gender          500 non-null    object \n",
      "dtypes: float64(1), int64(3), object(7)\n",
      "memory usage: 43.1+ KB\n"
     ]
    }
   ],
   "source": [
    "loan.info()"
   ]
  },
  {
   "cell_type": "code",
   "execution_count": 113,
   "metadata": {},
   "outputs": [
    {
     "data": {
      "text/html": [
       "<div>\n",
       "<style scoped>\n",
       "    .dataframe tbody tr th:only-of-type {\n",
       "        vertical-align: middle;\n",
       "    }\n",
       "\n",
       "    .dataframe tbody tr th {\n",
       "        vertical-align: top;\n",
       "    }\n",
       "\n",
       "    .dataframe thead th {\n",
       "        text-align: right;\n",
       "    }\n",
       "</style>\n",
       "<table border=\"1\" class=\"dataframe\">\n",
       "  <thead>\n",
       "    <tr style=\"text-align: right;\">\n",
       "      <th></th>\n",
       "      <th>Principal</th>\n",
       "      <th>terms</th>\n",
       "      <th>past_due_days</th>\n",
       "      <th>age</th>\n",
       "    </tr>\n",
       "  </thead>\n",
       "  <tbody>\n",
       "    <tr>\n",
       "      <th>count</th>\n",
       "      <td>500.000000</td>\n",
       "      <td>500.000000</td>\n",
       "      <td>200.00000</td>\n",
       "      <td>500.000000</td>\n",
       "    </tr>\n",
       "    <tr>\n",
       "      <th>mean</th>\n",
       "      <td>943.200000</td>\n",
       "      <td>22.824000</td>\n",
       "      <td>36.01000</td>\n",
       "      <td>31.116000</td>\n",
       "    </tr>\n",
       "    <tr>\n",
       "      <th>std</th>\n",
       "      <td>115.240274</td>\n",
       "      <td>8.000064</td>\n",
       "      <td>29.38088</td>\n",
       "      <td>6.084784</td>\n",
       "    </tr>\n",
       "    <tr>\n",
       "      <th>min</th>\n",
       "      <td>300.000000</td>\n",
       "      <td>7.000000</td>\n",
       "      <td>1.00000</td>\n",
       "      <td>18.000000</td>\n",
       "    </tr>\n",
       "    <tr>\n",
       "      <th>25%</th>\n",
       "      <td>1000.000000</td>\n",
       "      <td>15.000000</td>\n",
       "      <td>3.00000</td>\n",
       "      <td>27.000000</td>\n",
       "    </tr>\n",
       "    <tr>\n",
       "      <th>50%</th>\n",
       "      <td>1000.000000</td>\n",
       "      <td>30.000000</td>\n",
       "      <td>37.00000</td>\n",
       "      <td>30.000000</td>\n",
       "    </tr>\n",
       "    <tr>\n",
       "      <th>75%</th>\n",
       "      <td>1000.000000</td>\n",
       "      <td>30.000000</td>\n",
       "      <td>60.00000</td>\n",
       "      <td>35.000000</td>\n",
       "    </tr>\n",
       "    <tr>\n",
       "      <th>max</th>\n",
       "      <td>1000.000000</td>\n",
       "      <td>30.000000</td>\n",
       "      <td>76.00000</td>\n",
       "      <td>51.000000</td>\n",
       "    </tr>\n",
       "  </tbody>\n",
       "</table>\n",
       "</div>"
      ],
      "text/plain": [
       "         Principal       terms  past_due_days         age\n",
       "count   500.000000  500.000000      200.00000  500.000000\n",
       "mean    943.200000   22.824000       36.01000   31.116000\n",
       "std     115.240274    8.000064       29.38088    6.084784\n",
       "min     300.000000    7.000000        1.00000   18.000000\n",
       "25%    1000.000000   15.000000        3.00000   27.000000\n",
       "50%    1000.000000   30.000000       37.00000   30.000000\n",
       "75%    1000.000000   30.000000       60.00000   35.000000\n",
       "max    1000.000000   30.000000       76.00000   51.000000"
      ]
     },
     "execution_count": 113,
     "metadata": {},
     "output_type": "execute_result"
    }
   ],
   "source": [
    "loan.describe()"
   ]
  },
  {
   "cell_type": "markdown",
   "metadata": {},
   "source": [
    "### Data Cleaning"
   ]
  },
  {
   "cell_type": "code",
   "execution_count": 114,
   "metadata": {},
   "outputs": [
    {
     "data": {
      "text/html": [
       "<div>\n",
       "<style scoped>\n",
       "    .dataframe tbody tr th:only-of-type {\n",
       "        vertical-align: middle;\n",
       "    }\n",
       "\n",
       "    .dataframe tbody tr th {\n",
       "        vertical-align: top;\n",
       "    }\n",
       "\n",
       "    .dataframe thead th {\n",
       "        text-align: right;\n",
       "    }\n",
       "</style>\n",
       "<table border=\"1\" class=\"dataframe\">\n",
       "  <thead>\n",
       "    <tr style=\"text-align: right;\">\n",
       "      <th></th>\n",
       "      <th>Total</th>\n",
       "      <th>Percent</th>\n",
       "    </tr>\n",
       "  </thead>\n",
       "  <tbody>\n",
       "    <tr>\n",
       "      <th>Loan_ID</th>\n",
       "      <td>0</td>\n",
       "      <td>0.0</td>\n",
       "    </tr>\n",
       "    <tr>\n",
       "      <th>loan_status</th>\n",
       "      <td>0</td>\n",
       "      <td>0.0</td>\n",
       "    </tr>\n",
       "    <tr>\n",
       "      <th>Principal</th>\n",
       "      <td>0</td>\n",
       "      <td>0.0</td>\n",
       "    </tr>\n",
       "    <tr>\n",
       "      <th>terms</th>\n",
       "      <td>0</td>\n",
       "      <td>0.0</td>\n",
       "    </tr>\n",
       "    <tr>\n",
       "      <th>effective_date</th>\n",
       "      <td>0</td>\n",
       "      <td>0.0</td>\n",
       "    </tr>\n",
       "    <tr>\n",
       "      <th>due_date</th>\n",
       "      <td>0</td>\n",
       "      <td>0.0</td>\n",
       "    </tr>\n",
       "    <tr>\n",
       "      <th>paid_off_time</th>\n",
       "      <td>100</td>\n",
       "      <td>20.0</td>\n",
       "    </tr>\n",
       "    <tr>\n",
       "      <th>past_due_days</th>\n",
       "      <td>300</td>\n",
       "      <td>60.0</td>\n",
       "    </tr>\n",
       "    <tr>\n",
       "      <th>age</th>\n",
       "      <td>0</td>\n",
       "      <td>0.0</td>\n",
       "    </tr>\n",
       "    <tr>\n",
       "      <th>education</th>\n",
       "      <td>0</td>\n",
       "      <td>0.0</td>\n",
       "    </tr>\n",
       "    <tr>\n",
       "      <th>Gender</th>\n",
       "      <td>0</td>\n",
       "      <td>0.0</td>\n",
       "    </tr>\n",
       "  </tbody>\n",
       "</table>\n",
       "</div>"
      ],
      "text/plain": [
       "                Total  Percent\n",
       "Loan_ID             0      0.0\n",
       "loan_status         0      0.0\n",
       "Principal           0      0.0\n",
       "terms               0      0.0\n",
       "effective_date      0      0.0\n",
       "due_date            0      0.0\n",
       "paid_off_time     100     20.0\n",
       "past_due_days     300     60.0\n",
       "age                 0      0.0\n",
       "education           0      0.0\n",
       "Gender              0      0.0"
      ]
     },
     "execution_count": 114,
     "metadata": {},
     "output_type": "execute_result"
    }
   ],
   "source": [
    "total=loan.isnull().sum()\n",
    "percent=(((loan.isnull().sum()/loan.isnull().count()))*100)\n",
    "missing_data=pd.concat([total,percent],axis=1,keys=['Total','Percent'])\n",
    "missing_data"
   ]
  },
  {
   "cell_type": "markdown",
   "metadata": {},
   "source": [
    "Looks like paid_off_time and past_due_days having alot of missing values"
   ]
  },
  {
   "cell_type": "markdown",
   "metadata": {},
   "source": [
    "Removing null values from both the above columns. I am going to replace the missing values with new values"
   ]
  },
  {
   "cell_type": "code",
   "execution_count": 115,
   "metadata": {},
   "outputs": [],
   "source": [
    "loan['past_due_days']=loan['past_due_days'].fillna(0)\n",
    "\n",
    "# Filling empty values with -1\n",
    "loan['paid_off_time']=loan['paid_off_time'].fillna(-1)"
   ]
  },
  {
   "cell_type": "code",
   "execution_count": 116,
   "metadata": {},
   "outputs": [
    {
     "data": {
      "text/plain": [
       "Loan_ID           0\n",
       "loan_status       0\n",
       "Principal         0\n",
       "terms             0\n",
       "effective_date    0\n",
       "due_date          0\n",
       "paid_off_time     0\n",
       "past_due_days     0\n",
       "age               0\n",
       "education         0\n",
       "Gender            0\n",
       "dtype: int64"
      ]
     },
     "execution_count": 116,
     "metadata": {},
     "output_type": "execute_result"
    }
   ],
   "source": [
    "loan.isnull().sum()"
   ]
  },
  {
   "cell_type": "code",
   "execution_count": 117,
   "metadata": {},
   "outputs": [
    {
     "data": {
      "text/plain": [
       "array(['High School or Below', 'Bechalor', 'college', 'Master or Above'],\n",
       "      dtype=object)"
      ]
     },
     "execution_count": 117,
     "metadata": {},
     "output_type": "execute_result"
    }
   ],
   "source": [
    "loan['education'].unique()"
   ]
  },
  {
   "cell_type": "markdown",
   "metadata": {},
   "source": [
    "#### Spelling correction in education"
   ]
  },
  {
   "cell_type": "code",
   "execution_count": 118,
   "metadata": {},
   "outputs": [],
   "source": [
    "loan['education']=loan['education'].replace('Bechalor','Bachelor')"
   ]
  },
  {
   "cell_type": "code",
   "execution_count": 119,
   "metadata": {},
   "outputs": [
    {
     "data": {
      "text/html": [
       "<div>\n",
       "<style scoped>\n",
       "    .dataframe tbody tr th:only-of-type {\n",
       "        vertical-align: middle;\n",
       "    }\n",
       "\n",
       "    .dataframe tbody tr th {\n",
       "        vertical-align: top;\n",
       "    }\n",
       "\n",
       "    .dataframe thead th {\n",
       "        text-align: right;\n",
       "    }\n",
       "</style>\n",
       "<table border=\"1\" class=\"dataframe\">\n",
       "  <thead>\n",
       "    <tr style=\"text-align: right;\">\n",
       "      <th></th>\n",
       "      <th>Loan_ID</th>\n",
       "      <th>loan_status</th>\n",
       "      <th>Principal</th>\n",
       "      <th>terms</th>\n",
       "      <th>effective_date</th>\n",
       "      <th>due_date</th>\n",
       "      <th>paid_off_time</th>\n",
       "      <th>past_due_days</th>\n",
       "      <th>age</th>\n",
       "      <th>education</th>\n",
       "      <th>Gender</th>\n",
       "    </tr>\n",
       "  </thead>\n",
       "  <tbody>\n",
       "    <tr>\n",
       "      <th>0</th>\n",
       "      <td>xqd20166231</td>\n",
       "      <td>PAIDOFF</td>\n",
       "      <td>1000</td>\n",
       "      <td>30</td>\n",
       "      <td>9/8/2016</td>\n",
       "      <td>10/7/2016</td>\n",
       "      <td>9/14/2016 19:31</td>\n",
       "      <td>0.0</td>\n",
       "      <td>45</td>\n",
       "      <td>High School or Below</td>\n",
       "      <td>male</td>\n",
       "    </tr>\n",
       "    <tr>\n",
       "      <th>1</th>\n",
       "      <td>xqd20168902</td>\n",
       "      <td>PAIDOFF</td>\n",
       "      <td>1000</td>\n",
       "      <td>30</td>\n",
       "      <td>9/8/2016</td>\n",
       "      <td>10/7/2016</td>\n",
       "      <td>10/7/2016 9:00</td>\n",
       "      <td>0.0</td>\n",
       "      <td>50</td>\n",
       "      <td>Bachelor</td>\n",
       "      <td>female</td>\n",
       "    </tr>\n",
       "    <tr>\n",
       "      <th>2</th>\n",
       "      <td>xqd20160003</td>\n",
       "      <td>PAIDOFF</td>\n",
       "      <td>1000</td>\n",
       "      <td>30</td>\n",
       "      <td>9/8/2016</td>\n",
       "      <td>10/7/2016</td>\n",
       "      <td>9/25/2016 16:58</td>\n",
       "      <td>0.0</td>\n",
       "      <td>33</td>\n",
       "      <td>Bachelor</td>\n",
       "      <td>female</td>\n",
       "    </tr>\n",
       "    <tr>\n",
       "      <th>3</th>\n",
       "      <td>xqd20160004</td>\n",
       "      <td>PAIDOFF</td>\n",
       "      <td>1000</td>\n",
       "      <td>15</td>\n",
       "      <td>9/8/2016</td>\n",
       "      <td>9/22/2016</td>\n",
       "      <td>9/22/2016 20:00</td>\n",
       "      <td>0.0</td>\n",
       "      <td>27</td>\n",
       "      <td>college</td>\n",
       "      <td>male</td>\n",
       "    </tr>\n",
       "    <tr>\n",
       "      <th>4</th>\n",
       "      <td>xqd20160005</td>\n",
       "      <td>PAIDOFF</td>\n",
       "      <td>1000</td>\n",
       "      <td>30</td>\n",
       "      <td>9/9/2016</td>\n",
       "      <td>10/8/2016</td>\n",
       "      <td>9/23/2016 21:36</td>\n",
       "      <td>0.0</td>\n",
       "      <td>28</td>\n",
       "      <td>college</td>\n",
       "      <td>female</td>\n",
       "    </tr>\n",
       "  </tbody>\n",
       "</table>\n",
       "</div>"
      ],
      "text/plain": [
       "       Loan_ID loan_status  Principal  terms effective_date   due_date  \\\n",
       "0  xqd20166231     PAIDOFF       1000     30       9/8/2016  10/7/2016   \n",
       "1  xqd20168902     PAIDOFF       1000     30       9/8/2016  10/7/2016   \n",
       "2  xqd20160003     PAIDOFF       1000     30       9/8/2016  10/7/2016   \n",
       "3  xqd20160004     PAIDOFF       1000     15       9/8/2016  9/22/2016   \n",
       "4  xqd20160005     PAIDOFF       1000     30       9/9/2016  10/8/2016   \n",
       "\n",
       "     paid_off_time  past_due_days  age             education  Gender  \n",
       "0  9/14/2016 19:31            0.0   45  High School or Below    male  \n",
       "1   10/7/2016 9:00            0.0   50              Bachelor  female  \n",
       "2  9/25/2016 16:58            0.0   33              Bachelor  female  \n",
       "3  9/22/2016 20:00            0.0   27               college    male  \n",
       "4  9/23/2016 21:36            0.0   28               college  female  "
      ]
     },
     "execution_count": 119,
     "metadata": {},
     "output_type": "execute_result"
    }
   ],
   "source": [
    "loan.head()"
   ]
  },
  {
   "cell_type": "code",
   "execution_count": 120,
   "metadata": {},
   "outputs": [
    {
     "data": {
      "text/plain": [
       "Loan_ID            object\n",
       "loan_status        object\n",
       "Principal           int64\n",
       "terms               int64\n",
       "effective_date     object\n",
       "due_date           object\n",
       "paid_off_time      object\n",
       "past_due_days     float64\n",
       "age                 int64\n",
       "education          object\n",
       "Gender             object\n",
       "dtype: object"
      ]
     },
     "execution_count": 120,
     "metadata": {},
     "output_type": "execute_result"
    }
   ],
   "source": [
    "loan.dtypes"
   ]
  },
  {
   "cell_type": "markdown",
   "metadata": {},
   "source": [
    "Changing the data types of some columns to date time"
   ]
  },
  {
   "cell_type": "code",
   "execution_count": 121,
   "metadata": {},
   "outputs": [
    {
     "data": {
      "text/html": [
       "<div>\n",
       "<style scoped>\n",
       "    .dataframe tbody tr th:only-of-type {\n",
       "        vertical-align: middle;\n",
       "    }\n",
       "\n",
       "    .dataframe tbody tr th {\n",
       "        vertical-align: top;\n",
       "    }\n",
       "\n",
       "    .dataframe thead th {\n",
       "        text-align: right;\n",
       "    }\n",
       "</style>\n",
       "<table border=\"1\" class=\"dataframe\">\n",
       "  <thead>\n",
       "    <tr style=\"text-align: right;\">\n",
       "      <th></th>\n",
       "      <th>Loan_ID</th>\n",
       "      <th>loan_status</th>\n",
       "      <th>Principal</th>\n",
       "      <th>terms</th>\n",
       "      <th>effective_date</th>\n",
       "      <th>due_date</th>\n",
       "      <th>paid_off_time</th>\n",
       "      <th>past_due_days</th>\n",
       "      <th>age</th>\n",
       "      <th>education</th>\n",
       "      <th>Gender</th>\n",
       "    </tr>\n",
       "  </thead>\n",
       "  <tbody>\n",
       "    <tr>\n",
       "      <th>0</th>\n",
       "      <td>xqd20166231</td>\n",
       "      <td>PAIDOFF</td>\n",
       "      <td>1000</td>\n",
       "      <td>30</td>\n",
       "      <td>2016-09-08</td>\n",
       "      <td>2016-10-07</td>\n",
       "      <td>2016-09-14</td>\n",
       "      <td>0.0</td>\n",
       "      <td>45</td>\n",
       "      <td>High School or Below</td>\n",
       "      <td>male</td>\n",
       "    </tr>\n",
       "    <tr>\n",
       "      <th>1</th>\n",
       "      <td>xqd20168902</td>\n",
       "      <td>PAIDOFF</td>\n",
       "      <td>1000</td>\n",
       "      <td>30</td>\n",
       "      <td>2016-09-08</td>\n",
       "      <td>2016-10-07</td>\n",
       "      <td>2016-10-07</td>\n",
       "      <td>0.0</td>\n",
       "      <td>50</td>\n",
       "      <td>Bachelor</td>\n",
       "      <td>female</td>\n",
       "    </tr>\n",
       "    <tr>\n",
       "      <th>2</th>\n",
       "      <td>xqd20160003</td>\n",
       "      <td>PAIDOFF</td>\n",
       "      <td>1000</td>\n",
       "      <td>30</td>\n",
       "      <td>2016-09-08</td>\n",
       "      <td>2016-10-07</td>\n",
       "      <td>2016-09-25</td>\n",
       "      <td>0.0</td>\n",
       "      <td>33</td>\n",
       "      <td>Bachelor</td>\n",
       "      <td>female</td>\n",
       "    </tr>\n",
       "    <tr>\n",
       "      <th>3</th>\n",
       "      <td>xqd20160004</td>\n",
       "      <td>PAIDOFF</td>\n",
       "      <td>1000</td>\n",
       "      <td>15</td>\n",
       "      <td>2016-09-08</td>\n",
       "      <td>2016-09-22</td>\n",
       "      <td>2016-09-22</td>\n",
       "      <td>0.0</td>\n",
       "      <td>27</td>\n",
       "      <td>college</td>\n",
       "      <td>male</td>\n",
       "    </tr>\n",
       "    <tr>\n",
       "      <th>4</th>\n",
       "      <td>xqd20160005</td>\n",
       "      <td>PAIDOFF</td>\n",
       "      <td>1000</td>\n",
       "      <td>30</td>\n",
       "      <td>2016-09-09</td>\n",
       "      <td>2016-10-08</td>\n",
       "      <td>2016-09-23</td>\n",
       "      <td>0.0</td>\n",
       "      <td>28</td>\n",
       "      <td>college</td>\n",
       "      <td>female</td>\n",
       "    </tr>\n",
       "  </tbody>\n",
       "</table>\n",
       "</div>"
      ],
      "text/plain": [
       "       Loan_ID loan_status  Principal  terms effective_date   due_date  \\\n",
       "0  xqd20166231     PAIDOFF       1000     30     2016-09-08 2016-10-07   \n",
       "1  xqd20168902     PAIDOFF       1000     30     2016-09-08 2016-10-07   \n",
       "2  xqd20160003     PAIDOFF       1000     30     2016-09-08 2016-10-07   \n",
       "3  xqd20160004     PAIDOFF       1000     15     2016-09-08 2016-09-22   \n",
       "4  xqd20160005     PAIDOFF       1000     30     2016-09-09 2016-10-08   \n",
       "\n",
       "  paid_off_time  past_due_days  age             education  Gender  \n",
       "0    2016-09-14            0.0   45  High School or Below    male  \n",
       "1    2016-10-07            0.0   50              Bachelor  female  \n",
       "2    2016-09-25            0.0   33              Bachelor  female  \n",
       "3    2016-09-22            0.0   27               college    male  \n",
       "4    2016-09-23            0.0   28               college  female  "
      ]
     },
     "execution_count": 121,
     "metadata": {},
     "output_type": "execute_result"
    }
   ],
   "source": [
    "loan['effective_date']=pd.to_datetime(loan['effective_date'])\n",
    "loan['due_date']=pd.to_datetime(loan['due_date'])\n",
    "loan['paid_off_time']=pd.to_datetime(loan['paid_off_time']).dt.date\n",
    "loan['paid_off_time']=pd.to_datetime(loan['paid_off_time'])\n",
    "\n",
    "loan.head()"
   ]
  },
  {
   "cell_type": "markdown",
   "metadata": {},
   "source": [
    "## Exploratory Data Analysis"
   ]
  },
  {
   "cell_type": "code",
   "execution_count": 18,
   "metadata": {},
   "outputs": [
    {
     "data": {
      "text/plain": [
       "Text(0.5, 1.0, 'Loan payments')"
      ]
     },
     "execution_count": 18,
     "metadata": {},
     "output_type": "execute_result"
    },
    {
     "data": {
      "image/png": "[encoded data removed]",
      "text/plain": [
       "<Figure size 864x432 with 1 Axes>"
      ]
     },
     "metadata": {
      "needs_background": "light"
     },
     "output_type": "display_data"
    }
   ],
   "source": [
    "a=loan['loan_status'].value_counts()\n",
    "plt.figure(figsize=(12,6))\n",
    "plt.bar(a.index,a.values)\n",
    "plt.xlabel(\"Status of the loans\",size=14)\n",
    "plt.ylabel(\"Number of people\")\n",
    "plt.title(\"Loan payments\",size=22)"
   ]
  },
  {
   "cell_type": "code",
   "execution_count": 19,
   "metadata": {},
   "outputs": [
    {
     "data": {
      "text/plain": [
       "male      423\n",
       "female     77\n",
       "Name: Gender, dtype: int64"
      ]
     },
     "execution_count": 19,
     "metadata": {},
     "output_type": "execute_result"
    }
   ],
   "source": [
    "a=loan['Gender'].value_counts()\n",
    "a"
   ]
  },
  {
   "cell_type": "markdown",
   "metadata": {},
   "source": [
    "Out of 500 people 423 are males and 77 are females who have taken up loans"
   ]
  },
  {
   "cell_type": "code",
   "execution_count": 26,
   "metadata": {},
   "outputs": [
    {
     "data": {
      "text/plain": [
       "Text(0.5, 1.0, 'Relationship between loan status and Gender')"
      ]
     },
     "execution_count": 26,
     "metadata": {},
     "output_type": "execute_result"
    },
    {
     "data": {
      "image/png": "[encoded data removed]",
      "text/plain": [
       "<Figure size 864x432 with 1 Axes>"
      ]
     },
     "metadata": {
      "needs_background": "light"
     },
     "output_type": "display_data"
    }
   ],
   "source": [
    "plt.figure(figsize=(12,6))\n",
    "sns.countplot(loan['Gender'],hue=loan['loan_status'])\n",
    "plt.title(\"Relationship between loan status and Gender\",size=16)"
   ]
  },
  {
   "cell_type": "markdown",
   "metadata": {},
   "source": [
    "#### Education analysis"
   ]
  },
  {
   "cell_type": "code",
   "execution_count": 29,
   "metadata": {},
   "outputs": [
    {
     "data": {
      "text/plain": [
       "([<matplotlib.patches.Wedge at 0x1a104e52400>,\n",
       "  <matplotlib.patches.Wedge at 0x1a104e52b38>,\n",
       "  <matplotlib.patches.Wedge at 0x1a104e58278>,\n",
       "  <matplotlib.patches.Wedge at 0x1a104e58978>],\n",
       " [Text(0.2061194541375137, 1.080515974257694, 'High School or Below'),\n",
       "  Text(-0.6521424802814796, -0.8858386904015427, 'Bachelor'),\n",
       "  Text(0.9801072140121813, -0.4993894763020948, 'college'),\n",
       "  Text(1.099652610605003, -0.027643009778271017, 'Master or Above')],\n",
       " [Text(0.11242879316591656, 0.5893723495951058, '44%'),\n",
       "  Text(-0.3557140801535343, -0.48318474021902325, '42%'),\n",
       "  Text(0.5346039349157352, -0.27239425980114257, '13%'),\n",
       "  Text(0.5998105148754562, -0.015078005333602372, '1%')])"
      ]
     },
     "execution_count": 29,
     "metadata": {},
     "output_type": "execute_result"
    },
    {
     "data": {
      "image/png": "[encoded data removed]",
      "text/plain": [
       "<Figure size 432x288 with 1 Axes>"
      ]
     },
     "metadata": {},
     "output_type": "display_data"
    }
   ],
   "source": [
    "plt.pie(loan['education'].value_counts(),labels=loan['education'].unique(),autopct='%1.f%%')"
   ]
  },
  {
   "cell_type": "markdown",
   "metadata": {},
   "source": [
    "Looks like most of the people here have either finished Bachelors or just high school"
   ]
  },
  {
   "cell_type": "code",
   "execution_count": 32,
   "metadata": {},
   "outputs": [
    {
     "data": {
      "text/plain": [
       "Text(0.5, 1.0, 'Education and loan status')"
      ]
     },
     "execution_count": 32,
     "metadata": {},
     "output_type": "execute_result"
    },
    {
     "data": {
      "image/png": "[encoded data removed]",
      "text/plain": [
       "<Figure size 864x576 with 1 Axes>"
      ]
     },
     "metadata": {
      "needs_background": "light"
     },
     "output_type": "display_data"
    }
   ],
   "source": [
    "plt.figure(figsize=(12,8))\n",
    "sns.countplot(loan['education'],hue=loan['loan_status'])\n",
    "plt.title(\"Education and loan status\",size=20)"
   ]
  },
  {
   "cell_type": "markdown",
   "metadata": {},
   "source": [
    "Majority of the loan takers are either from college or from High School and very less are from the masters background."
   ]
  },
  {
   "cell_type": "markdown",
   "metadata": {},
   "source": [
    "##### Age and loan status"
   ]
  },
  {
   "cell_type": "code",
   "execution_count": 37,
   "metadata": {},
   "outputs": [
    {
     "data": {
      "text/plain": [
       "(array([ 14.,  41., 104., 133.,  75.,  59.,  42.,  13.,  13.,   6.]),\n",
       " array([18. , 21.3, 24.6, 27.9, 31.2, 34.5, 37.8, 41.1, 44.4, 47.7, 51. ]),\n",
       " <a list of 10 Patch objects>)"
      ]
     },
     "execution_count": 37,
     "metadata": {},
     "output_type": "execute_result"
    },
    {
     "data": {
      "image/png": "[encoded data removed]",
      "text/plain": [
       "<Figure size 864x576 with 1 Axes>"
      ]
     },
     "metadata": {
      "needs_background": "light"
     },
     "output_type": "display_data"
    }
   ],
   "source": [
    "plt.figure(figsize=(12,8))\n",
    "plt.hist(loan['age'])"
   ]
  },
  {
   "cell_type": "markdown",
   "metadata": {},
   "source": [
    "Majority of the people who take loan are between the ages of 25 to 35"
   ]
  },
  {
   "cell_type": "code",
   "execution_count": 41,
   "metadata": {},
   "outputs": [
    {
     "data": {
      "text/plain": [
       "<matplotlib.axes._subplots.AxesSubplot at 0x1a10558ff60>"
      ]
     },
     "execution_count": 41,
     "metadata": {},
     "output_type": "execute_result"
    },
    {
     "data": {
      "image/png": "[encoded data removed]",
      "text/plain": [
       "<Figure size 1152x792 with 1 Axes>"
      ]
     },
     "metadata": {
      "needs_background": "light"
     },
     "output_type": "display_data"
    }
   ],
   "source": [
    "plt.figure(figsize=(16,11))\n",
    "sns.countplot(loan['age'],hue=loan['loan_status'])\n"
   ]
  },
  {
   "cell_type": "markdown",
   "metadata": {},
   "source": [
    "#### terms"
   ]
  },
  {
   "cell_type": "code",
   "execution_count": 47,
   "metadata": {},
   "outputs": [
    {
     "name": "stdout",
     "output_type": "stream",
     "text": [
      "object\n"
     ]
    },
    {
     "data": {
      "text/plain": [
       "Text(0.5, 1.0, 'Number of terms that people have received')"
      ]
     },
     "execution_count": 47,
     "metadata": {},
     "output_type": "execute_result"
    },
    {
     "data": {
      "image/png": "[encoded data removed]",
      "text/plain": [
       "<Figure size 864x576 with 1 Axes>"
      ]
     },
     "metadata": {
      "needs_background": "light"
     },
     "output_type": "display_data"
    }
   ],
   "source": [
    "x=loan['terms']\n",
    "x=x.astype('object')\n",
    "print(x.dtype)\n",
    "plt.figure(figsize=(12,8))\n",
    "a=x.value_counts()\n",
    "plt.bar(a.index,a.values)\n",
    "plt.title(\"Number of terms that people have received\",size=20)"
   ]
  },
  {
   "cell_type": "code",
   "execution_count": 50,
   "metadata": {},
   "outputs": [
    {
     "data": {
      "text/plain": [
       "Text(0.5, 1.0, 'Number of terms and loan status')"
      ]
     },
     "execution_count": 50,
     "metadata": {},
     "output_type": "execute_result"
    },
    {
     "data": {
      "image/png": "[encoded data removed]",
      "text/plain": [
       "<Figure size 864x576 with 1 Axes>"
      ]
     },
     "metadata": {
      "needs_background": "light"
     },
     "output_type": "display_data"
    }
   ],
   "source": [
    "plt.figure(figsize=(12,8))\n",
    "sns.countplot(loan['terms'],hue=loan['loan_status'])\n",
    "plt.title(\"Number of terms and loan status\",size=20)"
   ]
  },
  {
   "cell_type": "markdown",
   "metadata": {},
   "source": [
    "#### Principal and loan status"
   ]
  },
  {
   "cell_type": "code",
   "execution_count": 51,
   "metadata": {},
   "outputs": [
    {
     "data": {
      "text/plain": [
       "<matplotlib.axes._subplots.AxesSubplot at 0x1a1063374a8>"
      ]
     },
     "execution_count": 51,
     "metadata": {},
     "output_type": "execute_result"
    },
    {
     "data": {
      "image/png": "[encoded data removed]",
      "text/plain": [
       "<Figure size 864x576 with 1 Axes>"
      ]
     },
     "metadata": {
      "needs_background": "light"
     },
     "output_type": "display_data"
    }
   ],
   "source": [
    "plt.figure(figsize=(12,8))\n",
    "sns.countplot(loan['Principal'],hue=loan['loan_status'])\n"
   ]
  },
  {
   "cell_type": "markdown",
   "metadata": {},
   "source": [
    "Majority of people have opted for the principle between 800 to 1000"
   ]
  },
  {
   "cell_type": "markdown",
   "metadata": {},
   "source": [
    "#### Loan effective date analysis"
   ]
  },
  {
   "cell_type": "code",
   "execution_count": 53,
   "metadata": {},
   "outputs": [
    {
     "data": {
      "text/html": [
       "<div>\n",
       "<style scoped>\n",
       "    .dataframe tbody tr th:only-of-type {\n",
       "        vertical-align: middle;\n",
       "    }\n",
       "\n",
       "    .dataframe tbody tr th {\n",
       "        vertical-align: top;\n",
       "    }\n",
       "\n",
       "    .dataframe thead th {\n",
       "        text-align: right;\n",
       "    }\n",
       "</style>\n",
       "<table border=\"1\" class=\"dataframe\">\n",
       "  <thead>\n",
       "    <tr style=\"text-align: right;\">\n",
       "      <th></th>\n",
       "      <th></th>\n",
       "      <th>loan_status</th>\n",
       "    </tr>\n",
       "    <tr>\n",
       "      <th>effective_date</th>\n",
       "      <th>loan_status</th>\n",
       "      <th></th>\n",
       "    </tr>\n",
       "  </thead>\n",
       "  <tbody>\n",
       "    <tr>\n",
       "      <th>2016-09-08</th>\n",
       "      <th>PAIDOFF</th>\n",
       "      <td>4</td>\n",
       "    </tr>\n",
       "    <tr>\n",
       "      <th rowspan=\"3\" valign=\"top\">2016-09-09</th>\n",
       "      <th>COLLECTION</th>\n",
       "      <td>5</td>\n",
       "    </tr>\n",
       "    <tr>\n",
       "      <th>COLLECTION_PAIDOFF</th>\n",
       "      <td>5</td>\n",
       "    </tr>\n",
       "    <tr>\n",
       "      <th>PAIDOFF</th>\n",
       "      <td>5</td>\n",
       "    </tr>\n",
       "    <tr>\n",
       "      <th rowspan=\"3\" valign=\"top\">2016-09-10</th>\n",
       "      <th>COLLECTION</th>\n",
       "      <td>20</td>\n",
       "    </tr>\n",
       "    <tr>\n",
       "      <th>PAIDOFF</th>\n",
       "      <td>19</td>\n",
       "    </tr>\n",
       "    <tr>\n",
       "      <th>COLLECTION_PAIDOFF</th>\n",
       "      <td>7</td>\n",
       "    </tr>\n",
       "    <tr>\n",
       "      <th rowspan=\"3\" valign=\"top\">2016-09-11</th>\n",
       "      <th>PAIDOFF</th>\n",
       "      <td>119</td>\n",
       "    </tr>\n",
       "    <tr>\n",
       "      <th>COLLECTION</th>\n",
       "      <td>71</td>\n",
       "    </tr>\n",
       "    <tr>\n",
       "      <th>COLLECTION_PAIDOFF</th>\n",
       "      <td>41</td>\n",
       "    </tr>\n",
       "    <tr>\n",
       "      <th rowspan=\"3\" valign=\"top\">2016-09-12</th>\n",
       "      <th>PAIDOFF</th>\n",
       "      <td>97</td>\n",
       "    </tr>\n",
       "    <tr>\n",
       "      <th>COLLECTION_PAIDOFF</th>\n",
       "      <td>47</td>\n",
       "    </tr>\n",
       "    <tr>\n",
       "      <th>COLLECTION</th>\n",
       "      <td>4</td>\n",
       "    </tr>\n",
       "    <tr>\n",
       "      <th>2016-09-13</th>\n",
       "      <th>PAIDOFF</th>\n",
       "      <td>23</td>\n",
       "    </tr>\n",
       "    <tr>\n",
       "      <th>2016-09-14</th>\n",
       "      <th>PAIDOFF</th>\n",
       "      <td>33</td>\n",
       "    </tr>\n",
       "  </tbody>\n",
       "</table>\n",
       "</div>"
      ],
      "text/plain": [
       "                                   loan_status\n",
       "effective_date loan_status                    \n",
       "2016-09-08     PAIDOFF                       4\n",
       "2016-09-09     COLLECTION                    5\n",
       "               COLLECTION_PAIDOFF            5\n",
       "               PAIDOFF                       5\n",
       "2016-09-10     COLLECTION                   20\n",
       "               PAIDOFF                      19\n",
       "               COLLECTION_PAIDOFF            7\n",
       "2016-09-11     PAIDOFF                     119\n",
       "               COLLECTION                   71\n",
       "               COLLECTION_PAIDOFF           41\n",
       "2016-09-12     PAIDOFF                      97\n",
       "               COLLECTION_PAIDOFF           47\n",
       "               COLLECTION                    4\n",
       "2016-09-13     PAIDOFF                      23\n",
       "2016-09-14     PAIDOFF                      33"
      ]
     },
     "execution_count": 53,
     "metadata": {},
     "output_type": "execute_result"
    }
   ],
   "source": [
    "d=loan.groupby(['effective_date'])['loan_status'].value_counts()\n",
    "pd.DataFrame(d)"
   ]
  },
  {
   "cell_type": "code",
   "execution_count": 56,
   "metadata": {},
   "outputs": [
    {
     "data": {
      "text/plain": [
       "<matplotlib.axes._subplots.AxesSubplot at 0x1a107a34978>"
      ]
     },
     "execution_count": 56,
     "metadata": {},
     "output_type": "execute_result"
    },
    {
     "data": {
      "image/png": "[encoded data removed]",
      "text/plain": [
       "<Figure size 864x576 with 1 Axes>"
      ]
     },
     "metadata": {
      "needs_background": "light"
     },
     "output_type": "display_data"
    }
   ],
   "source": [
    "plt.figure(figsize=(12,8))\n",
    "x=loan['effective_date'].dt.date\n",
    "sns.countplot(x,hue=loan['loan_status'])\n"
   ]
  },
  {
   "cell_type": "markdown",
   "metadata": {},
   "source": [
    "A lot of loans were given away on 11 and 12th September. Maybe because it was a start of a fiscal year or something"
   ]
  },
  {
   "cell_type": "markdown",
   "metadata": {},
   "source": [
    "#### Data Distribution"
   ]
  },
  {
   "cell_type": "code",
   "execution_count": 58,
   "metadata": {},
   "outputs": [
    {
     "data": {
      "text/plain": [
       "array([[<matplotlib.axes._subplots.AxesSubplot object at 0x000001A108491CC0>,\n",
       "        <matplotlib.axes._subplots.AxesSubplot object at 0x000001A108534320>],\n",
       "       [<matplotlib.axes._subplots.AxesSubplot object at 0x000001A108228898>,\n",
       "        <matplotlib.axes._subplots.AxesSubplot object at 0x000001A108250E10>]],\n",
       "      dtype=object)"
      ]
     },
     "execution_count": 58,
     "metadata": {},
     "output_type": "execute_result"
    },
    {
     "data": {
      "image/png": "[encoded data removed]",
      "text/plain": [
       "<Figure size 792x792 with 4 Axes>"
      ]
     },
     "metadata": {
      "needs_background": "light"
     },
     "output_type": "display_data"
    }
   ],
   "source": [
    "loan.hist(figsize=(11,11),color=\"#008080\")"
   ]
  },
  {
   "cell_type": "code",
   "execution_count": 63,
   "metadata": {},
   "outputs": [
    {
     "data": {
      "application/vnd.plotly.v1+json": {
       "config": {
        "plotlyServerURL": "https://plot.ly"
       },
       "data": [
        {
         "customdata": [
          [
           "male",
           1000
          ],
          [
           "female",
           1000
          ],
          [
           "female",
           1000
          ],
          [
           "male",
           1000
          ],
          [
           "female",
           1000
          ],
          [
           "male",
           300
          ],
          [
           "male",
           1000
          ],
          [
           "male",
           1000
          ],
          [
           "male",
           1000
          ],
          [
           "male",
           800
          ],
          [
           "male",
           300
          ],
          [
           "male",
           1000
          ],
          [
           "male",
           1000
          ],
          [
           "female",
           900
          ],
          [
           "male",
           1000
          ],
          [
           "male",
           800
          ],
          [
           "male",
           1000
          ],
          [
           "male",
           1000
          ],
          [
           "male",
           1000
          ],
          [
           "male",
           800
          ],
          [
           "male",
           1000
          ],
          [
           "female",
           1000
          ],
          [
           "male",
           1000
          ],
          [
           "male",
           1000
          ],
          [
           "male",
           1000
          ],
          [
           "male",
           1000
          ],
          [
           "male",
           800
          ],
          [
           "male",
           1000
          ],
          [
           "male",
           1000
          ],
          [
           "male",
           1000
          ],
          [
           "male",
           800
          ],
          [
           "male",
           1000
          ],
          [
           "male",
           1000
          ],
          [
           "male",
           1000
          ],
          [
           "male",
           800
          ],
          [
           "male",
           800
          ],
          [
           "male",
           1000
          ],
          [
           "male",
           700
          ],
          [
           "male",
           1000
          ],
          [
           "male",
           1000
          ],
          [
           "female",
           1000
          ],
          [
           "male",
           800
          ],
          [
           "male",
           1000
          ],
          [
           "male",
           1000
          ],
          [
           "female",
           1000
          ],
          [
           "male",
           800
          ],
          [
           "male",
           1000
          ],
          [
           "male",
           1000
          ],
          [
           "male",
           1000
          ],
          [
           "male",
           800
          ],
          [
           "female",
           800
          ],
          [
           "female",
           1000
          ],
          [
           "female",
           800
          ],
          [
           "male",
           1000
          ],
          [
           "male",
           1000
          ],
          [
           "male",
           1000
          ],
          [
           "male",
           1000
          ],
          [
           "male",
           1000
          ],
          [
           "female",
           800
          ],
          [
           "male",
           800
          ],
          [
           "male",
           1000
          ],
          [
           "male",
           1000
          ],
          [
           "male",
           1000
          ],
          [
           "male",
           1000
          ],
          [
           "male",
           800
          ],
          [
           "male",
           900
          ],
          [
           "male",
           1000
          ],
          [
           "male",
           1000
          ],
          [
           "male",
           300
          ],
          [
           "male",
           1000
          ],
          [
           "male",
           800
          ],
          [
           "male",
           800
          ],
          [
           "female",
           1000
          ],
          [
           "male",
           1000
          ],
          [
           "male",
           1000
          ],
          [
           "male",
           1000
          ],
          [
           "male",
           1000
          ],
          [
           "male",
           1000
          ],
          [
           "female",
           1000
          ],
          [
           "female",
           1000
          ],
          [
           "male",
           1000
          ],
          [
           "male",
           1000
          ],
          [
           "male",
           1000
          ],
          [
           "male",
           800
          ],
          [
           "female",
           1000
          ],
          [
           "male",
           1000
          ],
          [
           "female",
           1000
          ],
          [
           "female",
           1000
          ],
          [
           "male",
           800
          ],
          [
           "female",
           800
          ],
          [
           "female",
           800
          ],
          [
           "female",
           1000
          ],
          [
           "male",
           800
          ],
          [
           "male",
           800
          ],
          [
           "male",
           1000
          ],
          [
           "male",
           1000
          ],
          [
           "male",
           1000
          ],
          [
           "male",
           1000
          ],
          [
           "male",
           1000
          ],
          [
           "female",
           1000
          ],
          [
           "male",
           1000
          ],
          [
           "male",
           800
          ],
          [
           "male",
           1000
          ],
          [
           "male",
           1000
          ],
          [
           "male",
           1000
          ],
          [
           "male",
           1000
          ],
          [
           "male",
           1000
          ],
          [
           "male",
           1000
          ],
          [
           "male",
           1000
          ],
          [
           "male",
           1000
          ],
          [
           "male",
           800
          ],
          [
           "female",
           1000
          ],
          [
           "male",
           1000
          ],
          [
           "male",
           1000
          ],
          [
           "male",
           1000
          ],
          [
           "male",
           1000
          ],
          [
           "male",
           1000
          ],
          [
           "male",
           1000
          ],
          [
           "male",
           1000
          ],
          [
           "male",
           800
          ],
          [
           "male",
           1000
          ],
          [
           "male",
           1000
          ],
          [
           "male",
           1000
          ],
          [
           "male",
           1000
          ],
          [
           "male",
           1000
          ],
          [
           "male",
           1000
          ],
          [
           "male",
           1000
          ],
          [
           "male",
           800
          ],
          [
           "male",
           1000
          ],
          [
           "male",
           1000
          ],
          [
           "male",
           1000
          ],
          [
           "male",
           800
          ],
          [
           "male",
           1000
          ],
          [
           "female",
           1000
          ],
          [
           "male",
           800
          ],
          [
           "male",
           1000
          ],
          [
           "female",
           800
          ],
          [
           "male",
           1000
          ],
          [
           "male",
           1000
          ],
          [
           "male",
           1000
          ],
          [
           "male",
           1000
          ],
          [
           "male",
           800
          ],
          [
           "male",
           1000
          ],
          [
           "female",
           800
          ],
          [
           "male",
           1000
          ],
          [
           "male",
           1000
          ],
          [
           "female",
           1000
          ],
          [
           "male",
           300
          ],
          [
           "male",
           1000
          ],
          [
           "male",
           800
          ],
          [
           "male",
           1000
          ],
          [
           "male",
           800
          ],
          [
           "female",
           500
          ],
          [
           "male",
           1000
          ],
          [
           "male",
           1000
          ],
          [
           "female",
           1000
          ],
          [
           "male",
           1000
          ],
          [
           "male",
           800
          ],
          [
           "female",
           1000
          ],
          [
           "male",
           1000
          ],
          [
           "male",
           1000
          ],
          [
           "male",
           800
          ],
          [
           "male",
           1000
          ],
          [
           "female",
           1000
          ],
          [
           "male",
           1000
          ],
          [
           "male",
           1000
          ],
          [
           "male",
           1000
          ],
          [
           "male",
           800
          ],
          [
           "male",
           1000
          ],
          [
           "male",
           1000
          ],
          [
           "male",
           1000
          ],
          [
           "male",
           1000
          ],
          [
           "male",
           800
          ],
          [
           "male",
           1000
          ],
          [
           "male",
           800
          ],
          [
           "male",
           800
          ],
          [
           "male",
           1000
          ],
          [
           "male",
           1000
          ],
          [
           "male",
           1000
          ],
          [
           "male",
           1000
          ],
          [
           "female",
           1000
          ],
          [
           "male",
           300
          ],
          [
           "male",
           1000
          ],
          [
           "male",
           800
          ],
          [
           "male",
           1000
          ],
          [
           "female",
           1000
          ],
          [
           "male",
           1000
          ],
          [
           "male",
           1000
          ],
          [
           "male",
           800
          ],
          [
           "male",
           800
          ],
          [
           "male",
           1000
          ],
          [
           "male",
           1000
          ],
          [
           "female",
           1000
          ],
          [
           "female",
           1000
          ],
          [
           "male",
           800
          ],
          [
           "male",
           1000
          ],
          [
           "male",
           1000
          ],
          [
           "male",
           1000
          ],
          [
           "male",
           1000
          ],
          [
           "male",
           1000
          ],
          [
           "male",
           1000
          ],
          [
           "female",
           1000
          ],
          [
           "male",
           1000
          ],
          [
           "male",
           800
          ],
          [
           "male",
           1000
          ],
          [
           "female",
           1000
          ],
          [
           "male",
           1000
          ],
          [
           "male",
           1000
          ],
          [
           "male",
           300
          ],
          [
           "male",
           1000
          ],
          [
           "male",
           1000
          ],
          [
           "male",
           1000
          ],
          [
           "female",
           1000
          ],
          [
           "male",
           1000
          ],
          [
           "male",
           1000
          ],
          [
           "female",
           1000
          ],
          [
           "male",
           1000
          ],
          [
           "female",
           800
          ],
          [
           "male",
           1000
          ],
          [
           "male",
           1000
          ],
          [
           "male",
           1000
          ],
          [
           "male",
           1000
          ],
          [
           "male",
           1000
          ],
          [
           "male",
           1000
          ],
          [
           "male",
           1000
          ],
          [
           "male",
           1000
          ],
          [
           "male",
           1000
          ],
          [
           "male",
           800
          ],
          [
           "male",
           800
          ],
          [
           "male",
           800
          ],
          [
           "male",
           1000
          ],
          [
           "female",
           1000
          ],
          [
           "male",
           1000
          ],
          [
           "male",
           1000
          ],
          [
           "male",
           800
          ],
          [
           "male",
           1000
          ],
          [
           "male",
           1000
          ],
          [
           "male",
           800
          ],
          [
           "male",
           1000
          ],
          [
           "male",
           1000
          ],
          [
           "male",
           1000
          ],
          [
           "female",
           1000
          ],
          [
           "male",
           800
          ],
          [
           "female",
           800
          ],
          [
           "male",
           1000
          ],
          [
           "female",
           1000
          ],
          [
           "male",
           800
          ],
          [
           "male",
           800
          ],
          [
           "male",
           1000
          ],
          [
           "female",
           1000
          ],
          [
           "male",
           800
          ],
          [
           "male",
           1000
          ],
          [
           "male",
           1000
          ],
          [
           "male",
           500
          ],
          [
           "male",
           1000
          ],
          [
           "male",
           1000
          ],
          [
           "male",
           800
          ],
          [
           "female",
           1000
          ],
          [
           "male",
           1000
          ],
          [
           "male",
           1000
          ],
          [
           "male",
           800
          ],
          [
           "male",
           1000
          ],
          [
           "female",
           800
          ],
          [
           "male",
           1000
          ],
          [
           "male",
           800
          ],
          [
           "female",
           1000
          ],
          [
           "female",
           800
          ],
          [
           "male",
           1000
          ],
          [
           "male",
           1000
          ],
          [
           "female",
           800
          ],
          [
           "male",
           1000
          ],
          [
           "female",
           1000
          ],
          [
           "male",
           1000
          ],
          [
           "male",
           1000
          ],
          [
           "male",
           1000
          ],
          [
           "male",
           800
          ],
          [
           "male",
           800
          ],
          [
           "male",
           1000
          ],
          [
           "male",
           800
          ],
          [
           "male",
           800
          ],
          [
           "male",
           800
          ],
          [
           "male",
           1000
          ],
          [
           "male",
           1000
          ],
          [
           "male",
           1000
          ],
          [
           "male",
           1000
          ],
          [
           "male",
           1000
          ],
          [
           "male",
           1000
          ],
          [
           "female",
           1000
          ],
          [
           "male",
           1000
          ],
          [
           "male",
           800
          ],
          [
           "female",
           1000
          ],
          [
           "male",
           1000
          ],
          [
           "male",
           1000
          ],
          [
           "male",
           1000
          ],
          [
           "male",
           1000
          ],
          [
           "female",
           1000
          ],
          [
           "male",
           800
          ],
          [
           "male",
           1000
          ],
          [
           "male",
           1000
          ],
          [
           "male",
           1000
          ]
         ],
         "hovertemplate": "loan_status=PAIDOFF<br>age=%{x}<br>past_due_days=%{y}<br>terms=%{marker.size}<br>Gender=%{customdata[0]}<br>Principal=%{customdata[1]}<extra></extra>",
         "legendgroup": "PAIDOFF",
         "marker": {
          "color": "#636efa",
          "size": [
           30,
           30,
           30,
           15,
           30,
           7,
           30,
           30,
           30,
           15,
           7,
           15,
           30,
           7,
           7,
           15,
           30,
           15,
           30,
           30,
           30,
           30,
           30,
           15,
           30,
           30,
           15,
           15,
           30,
           30,
           15,
           30,
           30,
           30,
           15,
           15,
           30,
           15,
           15,
           30,
           15,
           15,
           7,
           15,
           15,
           7,
           30,
           30,
           30,
           15,
           15,
           30,
           15,
           30,
           30,
           15,
           30,
           30,
           15,
           15,
           30,
           15,
           30,
           30,
           15,
           15,
           30,
           30,
           7,
           30,
           15,
           15,
           30,
           15,
           15,
           30,
           30,
           30,
           30,
           30,
           30,
           7,
           15,
           15,
           30,
           30,
           30,
           30,
           15,
           15,
           15,
           7,
           15,
           15,
           30,
           30,
           15,
           30,
           30,
           30,
           7,
           15,
           30,
           15,
           15,
           30,
           30,
           30,
           30,
           7,
           15,
           30,
           30,
           30,
           30,
           15,
           30,
           30,
           30,
           15,
           30,
           30,
           15,
           15,
           30,
           30,
           15,
           15,
           15,
           30,
           15,
           15,
           30,
           30,
           15,
           30,
           15,
           15,
           15,
           30,
           30,
           15,
           7,
           15,
           30,
           15,
           30,
           7,
           15,
           15,
           15,
           15,
           15,
           15,
           30,
           30,
           15,
           15,
           15,
           30,
           15,
           15,
           30,
           15,
           15,
           30,
           30,
           30,
           15,
           30,
           15,
           30,
           15,
           30,
           15,
           15,
           30,
           30,
           30,
           30,
           15,
           7,
           30,
           15,
           30,
           30,
           30,
           15,
           15,
           15,
           30,
           30,
           15,
           30,
           15,
           30,
           30,
           15,
           30,
           30,
           15,
           30,
           15,
           15,
           30,
           7,
           30,
           30,
           7,
           30,
           15,
           30,
           30,
           30,
           30,
           30,
           15,
           15,
           15,
           30,
           15,
           30,
           30,
           15,
           30,
           30,
           15,
           15,
           15,
           15,
           15,
           7,
           30,
           30,
           15,
           30,
           30,
           15,
           15,
           15,
           30,
           15,
           15,
           15,
           7,
           30,
           15,
           15,
           30,
           15,
           15,
           30,
           30,
           7,
           30,
           30,
           15,
           15,
           7,
           30,
           15,
           15,
           30,
           15,
           15,
           15,
           15,
           15,
           30,
           30,
           30,
           30,
           30,
           30,
           30,
           15,
           15,
           30,
           15,
           30,
           15,
           15,
           30,
           30,
           15,
           30,
           30,
           30,
           30,
           15,
           15,
           30,
           30,
           30,
           30,
           30,
           15,
           30,
           30,
           30
          ],
          "sizemode": "area",
          "sizeref": 0.3,
          "symbol": "circle"
         },
         "mode": "markers",
         "name": "PAIDOFF",
         "orientation": "v",
         "showlegend": true,
         "type": "scatter",
         "x": [
          45,
          50,
          33,
          27,
          28,
          35,
          29,
          36,
          28,
          26,
          29,
          39,
          26,
          26,
          27,
          26,
          40,
          32,
          32,
          26,
          26,
          43,
          25,
          26,
          26,
          29,
          39,
          34,
          31,
          33,
          33,
          37,
          27,
          37,
          33,
          29,
          27,
          33,
          24,
          21,
          32,
          30,
          31,
          30,
          24,
          35,
          22,
          32,
          32,
          50,
          27,
          35,
          35,
          34,
          21,
          25,
          27,
          26,
          44,
          39,
          34,
          37,
          34,
          45,
          24,
          28,
          28,
          37,
          35,
          43,
          29,
          29,
          33,
          34,
          25,
          30,
          31,
          35,
          37,
          44,
          28,
          25,
          29,
          33,
          37,
          33,
          24,
          27,
          43,
          46,
          34,
          32,
          38,
          27,
          33,
          36,
          26,
          34,
          22,
          31,
          29,
          38,
          30,
          45,
          35,
          30,
          31,
          31,
          28,
          29,
          29,
          27,
          27,
          33,
          28,
          25,
          40,
          23,
          35,
          24,
          34,
          22,
          20,
          23,
          33,
          26,
          28,
          43,
          34,
          38,
          26,
          43,
          26,
          33,
          24,
          30,
          32,
          22,
          47,
          20,
          28,
          35,
          27,
          33,
          30,
          31,
          26,
          37,
          26,
          35,
          29,
          23,
          23,
          30,
          34,
          36,
          26,
          29,
          28,
          27,
          24,
          31,
          28,
          27,
          25,
          24,
          28,
          28,
          35,
          38,
          38,
          29,
          35,
          24,
          39,
          25,
          38,
          30,
          21,
          46,
          31,
          29,
          35,
          30,
          27,
          31,
          33,
          34,
          28,
          42,
          32,
          30,
          25,
          27,
          21,
          24,
          29,
          40,
          29,
          29,
          30,
          26,
          36,
          27,
          20,
          26,
          26,
          27,
          23,
          39,
          27,
          30,
          33,
          27,
          35,
          29,
          50,
          31,
          31,
          29,
          35,
          39,
          29,
          30,
          33,
          26,
          25,
          37,
          26,
          26,
          27,
          34,
          37,
          36,
          33,
          30,
          30,
          36,
          29,
          36,
          32,
          29,
          36,
          30,
          31,
          19,
          26,
          34,
          35,
          35,
          38,
          29,
          28,
          22,
          32,
          31,
          28,
          37,
          25,
          19,
          51,
          29,
          23,
          30,
          23,
          34,
          31,
          24,
          42,
          40,
          29,
          32,
          28,
          35,
          30,
          44,
          37,
          31,
          36,
          31,
          42,
          28,
          30,
          30,
          24,
          34,
          29,
          38,
          34,
          28,
          30,
          41,
          29,
          37,
          36,
          30,
          27,
          29,
          40,
          28
         ],
         "xaxis": "x",
         "y": [
          null,
          null,
          null,
          null,
          null,
          null,
          null,
          null,
          null,
          null,
          null,
          null,
          null,
          null,
          null,
          null,
          null,
          null,
          null,
          null,
          null,
          null,
          null,
          null,
          null,
          null,
          null,
          null,
          null,
          null,
          null,
          null,
          null,
          null,
          null,
          null,
          null,
          null,
          null,
          null,
          null,
          null,
          null,
          null,
          null,
          null,
          null,
          null,
          null,
          null,
          null,
          null,
          null,
          null,
          null,
          null,
          null,
          null,
          null,
          null,
          null,
          null,
          null,
          null,
          null,
          null,
          null,
          null,
          null,
          null,
          null,
          null,
          null,
          null,
          null,
          null,
          null,
          null,
          null,
          null,
          null,
          null,
          null,
          null,
          null,
          null,
          null,
          null,
          null,
          null,
          null,
          null,
          null,
          null,
          null,
          null,
          null,
          null,
          null,
          null,
          null,
          null,
          null,
          null,
          null,
          null,
          null,
          null,
          null,
          null,
          null,
          null,
          null,
          null,
          null,
          null,
          null,
          null,
          null,
          null,
          null,
          null,
          null,
          null,
          null,
          null,
          null,
          null,
          null,
          null,
          null,
          null,
          null,
          null,
          null,
          null,
          null,
          null,
          null,
          null,
          null,
          null,
          null,
          null,
          null,
          null,
          null,
          null,
          null,
          null,
          null,
          null,
          null,
          null,
          null,
          null,
          null,
          null,
          null,
          null,
          null,
          null,
          null,
          null,
          null,
          null,
          null,
          null,
          null,
          null,
          null,
          null,
          null,
          null,
          null,
          null,
          null,
          null,
          null,
          null,
          null,
          null,
          null,
          null,
          null,
          null,
          null,
          null,
          null,
          null,
          null,
          null,
          null,
          null,
          null,
          null,
          null,
          null,
          null,
          null,
          null,
          null,
          null,
          null,
          null,
          null,
          null,
          null,
          null,
          null,
          null,
          null,
          null,
          null,
          null,
          null,
          null,
          null,
          null,
          null,
          null,
          null,
          null,
          null,
          null,
          null,
          null,
          null,
          null,
          null,
          null,
          null,
          null,
          null,
          null,
          null,
          null,
          null,
          null,
          null,
          null,
          null,
          null,
          null,
          null,
          null,
          null,
          null,
          null,
          null,
          null,
          null,
          null,
          null,
          null,
          null,
          null,
          null,
          null,
          null,
          null,
          null,
          null,
          null,
          null,
          null,
          null,
          null,
          null,
          null,
          null,
          null,
          null,
          null,
          null,
          null,
          null,
          null,
          null,
          null,
          null,
          null,
          null,
          null,
          null,
          null,
          null,
          null,
          null,
          null,
          null,
          null,
          null,
          null,
          null,
          null,
          null,
          null,
          null,
          null
         ],
         "yaxis": "y"
        },
        {
         "customdata": [
          [
           "male",
           1000
          ],
          [
           "male",
           1000
          ],
          [
           "male",
           1000
          ],
          [
           "male",
           800
          ],
          [
           "male",
           800
          ],
          [
           "female",
           1000
          ],
          [
           "male",
           800
          ],
          [
           "male",
           1000
          ],
          [
           "male",
           1000
          ],
          [
           "male",
           800
          ],
          [
           "male",
           1000
          ],
          [
           "female",
           800
          ],
          [
           "male",
           1000
          ],
          [
           "male",
           1000
          ],
          [
           "male",
           1000
          ],
          [
           "male",
           1000
          ],
          [
           "male",
           1000
          ],
          [
           "male",
           1000
          ],
          [
           "male",
           1000
          ],
          [
           "male",
           1000
          ],
          [
           "male",
           1000
          ],
          [
           "male",
           1000
          ],
          [
           "male",
           1000
          ],
          [
           "male",
           800
          ],
          [
           "male",
           1000
          ],
          [
           "male",
           1000
          ],
          [
           "male",
           800
          ],
          [
           "male",
           1000
          ],
          [
           "female",
           1000
          ],
          [
           "male",
           1000
          ],
          [
           "male",
           1000
          ],
          [
           "male",
           800
          ],
          [
           "male",
           1000
          ],
          [
           "female",
           1000
          ],
          [
           "female",
           1000
          ],
          [
           "male",
           1000
          ],
          [
           "male",
           1000
          ],
          [
           "male",
           1000
          ],
          [
           "female",
           1000
          ],
          [
           "male",
           1000
          ],
          [
           "female",
           1000
          ],
          [
           "male",
           1000
          ],
          [
           "male",
           1000
          ],
          [
           "male",
           1000
          ],
          [
           "male",
           800
          ],
          [
           "male",
           1000
          ],
          [
           "male",
           1000
          ],
          [
           "male",
           800
          ],
          [
           "male",
           1000
          ],
          [
           "male",
           800
          ],
          [
           "male",
           1000
          ],
          [
           "male",
           1000
          ],
          [
           "male",
           1000
          ],
          [
           "male",
           1000
          ],
          [
           "male",
           1000
          ],
          [
           "male",
           1000
          ],
          [
           "male",
           1000
          ],
          [
           "male",
           1000
          ],
          [
           "male",
           1000
          ],
          [
           "male",
           1000
          ],
          [
           "male",
           1000
          ],
          [
           "male",
           800
          ],
          [
           "male",
           1000
          ],
          [
           "male",
           1000
          ],
          [
           "male",
           800
          ],
          [
           "female",
           1000
          ],
          [
           "male",
           800
          ],
          [
           "male",
           800
          ],
          [
           "male",
           1000
          ],
          [
           "male",
           1000
          ],
          [
           "male",
           800
          ],
          [
           "male",
           1000
          ],
          [
           "male",
           800
          ],
          [
           "male",
           1000
          ],
          [
           "male",
           1000
          ],
          [
           "female",
           800
          ],
          [
           "male",
           1000
          ],
          [
           "male",
           1000
          ],
          [
           "male",
           1000
          ],
          [
           "male",
           1000
          ],
          [
           "male",
           1000
          ],
          [
           "male",
           800
          ],
          [
           "male",
           1000
          ],
          [
           "male",
           1000
          ],
          [
           "male",
           1000
          ],
          [
           "male",
           1000
          ],
          [
           "male",
           800
          ],
          [
           "male",
           1000
          ],
          [
           "male",
           1000
          ],
          [
           "male",
           1000
          ],
          [
           "male",
           1000
          ],
          [
           "male",
           800
          ],
          [
           "female",
           1000
          ],
          [
           "male",
           1000
          ],
          [
           "male",
           800
          ],
          [
           "male",
           1000
          ],
          [
           "male",
           1000
          ],
          [
           "male",
           800
          ],
          [
           "male",
           1000
          ],
          [
           "male",
           1000
          ]
         ],
         "hovertemplate": "loan_status=COLLECTION<br>age=%{x}<br>past_due_days=%{y}<br>terms=%{marker.size}<br>Gender=%{customdata[0]}<br>Principal=%{customdata[1]}<extra></extra>",
         "legendgroup": "COLLECTION",
         "marker": {
          "color": "#EF553B",
          "size": [
           15,
           30,
           30,
           15,
           15,
           15,
           15,
           30,
           30,
           15,
           30,
           15,
           30,
           30,
           30,
           15,
           30,
           15,
           30,
           15,
           30,
           30,
           30,
           15,
           15,
           30,
           15,
           30,
           30,
           30,
           15,
           15,
           30,
           30,
           30,
           30,
           30,
           30,
           15,
           15,
           30,
           30,
           15,
           30,
           15,
           30,
           30,
           15,
           30,
           15,
           30,
           15,
           30,
           30,
           30,
           15,
           30,
           30,
           30,
           30,
           30,
           15,
           30,
           15,
           15,
           30,
           30,
           15,
           30,
           30,
           15,
           30,
           15,
           15,
           30,
           15,
           15,
           30,
           30,
           30,
           30,
           15,
           15,
           30,
           30,
           30,
           15,
           30,
           15,
           15,
           15,
           15,
           30,
           30,
           15,
           30,
           30,
           15,
           30,
           30
          ],
          "sizemode": "area",
          "sizeref": 0.3,
          "symbol": "circle"
         },
         "mode": "markers",
         "name": "COLLECTION",
         "orientation": "v",
         "showlegend": true,
         "type": "scatter",
         "x": [
          29,
          37,
          33,
          27,
          24,
          31,
          28,
          40,
          33,
          41,
          30,
          26,
          27,
          20,
          24,
          26,
          30,
          29,
          22,
          24,
          25,
          28,
          37,
          32,
          34,
          28,
          35,
          27,
          24,
          44,
          31,
          27,
          21,
          30,
          38,
          34,
          31,
          23,
          27,
          39,
          30,
          25,
          50,
          23,
          38,
          27,
          31,
          40,
          32,
          29,
          26,
          25,
          35,
          41,
          37,
          34,
          45,
          26,
          32,
          28,
          34,
          29,
          26,
          26,
          22,
          27,
          33,
          28,
          24,
          37,
          36,
          18,
          25,
          40,
          29,
          26,
          30,
          33,
          30,
          32,
          25,
          35,
          30,
          26,
          29,
          26,
          46,
          36,
          38,
          32,
          30,
          35,
          29,
          26,
          32,
          25,
          33,
          39,
          28,
          26
         ],
         "xaxis": "x",
         "y": [
          76,
          61,
          61,
          76,
          76,
          75,
          60,
          60,
          60,
          75,
          60,
          75,
          60,
          60,
          60,
          60,
          60,
          75,
          60,
          75,
          60,
          60,
          60,
          75,
          75,
          59,
          74,
          29,
          59,
          59,
          44,
          74,
          59,
          59,
          59,
          59,
          59,
          59,
          74,
          74,
          59,
          59,
          74,
          59,
          74,
          59,
          29,
          74,
          59,
          74,
          59,
          74,
          59,
          59,
          59,
          59,
          59,
          59,
          59,
          59,
          59,
          74,
          59,
          74,
          74,
          59,
          59,
          74,
          59,
          59,
          74,
          59,
          74,
          74,
          59,
          74,
          74,
          59,
          59,
          59,
          59,
          74,
          74,
          59,
          59,
          29,
          74,
          59,
          74,
          44,
          74,
          74,
          59,
          29,
          74,
          59,
          58,
          73,
          28,
          58
         ],
         "yaxis": "y"
        },
        {
         "customdata": [
          [
           "male",
           1000
          ],
          [
           "male",
           1000
          ],
          [
           "male",
           1000
          ],
          [
           "male",
           1000
          ],
          [
           "male",
           800
          ],
          [
           "male",
           1000
          ],
          [
           "male",
           800
          ],
          [
           "male",
           1000
          ],
          [
           "male",
           1000
          ],
          [
           "male",
           1000
          ],
          [
           "female",
           800
          ],
          [
           "male",
           1000
          ],
          [
           "male",
           800
          ],
          [
           "male",
           1000
          ],
          [
           "female",
           1000
          ],
          [
           "male",
           800
          ],
          [
           "female",
           1000
          ],
          [
           "male",
           800
          ],
          [
           "male",
           800
          ],
          [
           "male",
           1000
          ],
          [
           "female",
           1000
          ],
          [
           "male",
           1000
          ],
          [
           "male",
           800
          ],
          [
           "male",
           1000
          ],
          [
           "male",
           1000
          ],
          [
           "male",
           1000
          ],
          [
           "male",
           1000
          ],
          [
           "female",
           1000
          ],
          [
           "male",
           1000
          ],
          [
           "male",
           500
          ],
          [
           "male",
           800
          ],
          [
           "male",
           1000
          ],
          [
           "female",
           800
          ],
          [
           "male",
           1000
          ],
          [
           "male",
           1000
          ],
          [
           "male",
           1000
          ],
          [
           "male",
           1000
          ],
          [
           "male",
           1000
          ],
          [
           "female",
           1000
          ],
          [
           "male",
           1000
          ],
          [
           "male",
           1000
          ],
          [
           "male",
           1000
          ],
          [
           "male",
           1000
          ],
          [
           "female",
           1000
          ],
          [
           "male",
           1000
          ],
          [
           "male",
           1000
          ],
          [
           "male",
           1000
          ],
          [
           "male",
           1000
          ],
          [
           "male",
           1000
          ],
          [
           "male",
           1000
          ],
          [
           "male",
           1000
          ],
          [
           "male",
           800
          ],
          [
           "male",
           1000
          ],
          [
           "male",
           1000
          ],
          [
           "male",
           1000
          ],
          [
           "male",
           1000
          ],
          [
           "male",
           1000
          ],
          [
           "male",
           1000
          ],
          [
           "male",
           1000
          ],
          [
           "male",
           800
          ],
          [
           "male",
           800
          ],
          [
           "male",
           1000
          ],
          [
           "male",
           1000
          ],
          [
           "male",
           1000
          ],
          [
           "female",
           1000
          ],
          [
           "female",
           1000
          ],
          [
           "male",
           1000
          ],
          [
           "male",
           1000
          ],
          [
           "male",
           1000
          ],
          [
           "male",
           1000
          ],
          [
           "male",
           1000
          ],
          [
           "male",
           1000
          ],
          [
           "male",
           800
          ],
          [
           "male",
           1000
          ],
          [
           "female",
           800
          ],
          [
           "female",
           1000
          ],
          [
           "female",
           800
          ],
          [
           "male",
           1000
          ],
          [
           "male",
           1000
          ],
          [
           "male",
           1000
          ],
          [
           "male",
           1000
          ],
          [
           "male",
           1000
          ],
          [
           "male",
           800
          ],
          [
           "male",
           1000
          ],
          [
           "male",
           1000
          ],
          [
           "male",
           1000
          ],
          [
           "male",
           800
          ],
          [
           "male",
           1000
          ],
          [
           "male",
           1000
          ],
          [
           "male",
           1000
          ],
          [
           "male",
           1000
          ],
          [
           "male",
           1000
          ],
          [
           "male",
           1000
          ],
          [
           "male",
           1000
          ],
          [
           "male",
           1000
          ],
          [
           "male",
           1000
          ],
          [
           "male",
           1000
          ],
          [
           "male",
           800
          ],
          [
           "female",
           1000
          ],
          [
           "male",
           1000
          ]
         ],
         "hovertemplate": "loan_status=COLLECTION_PAIDOFF<br>age=%{x}<br>past_due_days=%{y}<br>terms=%{marker.size}<br>Gender=%{customdata[0]}<br>Principal=%{customdata[1]}<extra></extra>",
         "legendgroup": "COLLECTION_PAIDOFF",
         "marker": {
          "color": "#00cc96",
          "size": [
           30,
           15,
           30,
           15,
           15,
           30,
           15,
           30,
           30,
           15,
           15,
           30,
           15,
           15,
           30,
           15,
           30,
           15,
           15,
           30,
           15,
           30,
           15,
           15,
           30,
           30,
           30,
           30,
           30,
           15,
           15,
           15,
           7,
           30,
           30,
           30,
           30,
           30,
           30,
           30,
           30,
           15,
           30,
           30,
           30,
           15,
           30,
           30,
           30,
           30,
           30,
           15,
           15,
           30,
           30,
           15,
           30,
           30,
           30,
           15,
           15,
           30,
           30,
           15,
           30,
           30,
           30,
           15,
           30,
           30,
           15,
           30,
           15,
           30,
           15,
           30,
           15,
           30,
           15,
           30,
           15,
           15,
           15,
           30,
           30,
           30,
           15,
           30,
           15,
           30,
           30,
           30,
           30,
           15,
           30,
           30,
           15,
           15,
           30,
           30
          ],
          "sizemode": "area",
          "sizeref": 0.3,
          "symbol": "circle"
         },
         "mode": "markers",
         "name": "COLLECTION_PAIDOFF",
         "orientation": "v",
         "showlegend": true,
         "type": "scatter",
         "x": [
          26,
          28,
          39,
          29,
          33,
          27,
          34,
          26,
          28,
          32,
          27,
          21,
          39,
          38,
          36,
          33,
          21,
          25,
          29,
          33,
          47,
          33,
          23,
          24,
          27,
          32,
          33,
          27,
          35,
          37,
          28,
          33,
          34,
          29,
          34,
          29,
          24,
          34,
          25,
          24,
          30,
          28,
          24,
          26,
          24,
          29,
          31,
          26,
          25,
          29,
          38,
          41,
          26,
          26,
          35,
          37,
          25,
          24,
          34,
          33,
          38,
          38,
          26,
          37,
          42,
          49,
          26,
          41,
          38,
          26,
          32,
          27,
          33,
          30,
          26,
          35,
          46,
          27,
          22,
          27,
          30,
          27,
          47,
          30,
          26,
          38,
          46,
          35,
          45,
          36,
          38,
          27,
          27,
          29,
          30,
          28,
          26,
          30,
          38,
          28
         ],
         "xaxis": "x",
         "y": [
          2,
          4,
          13,
          5,
          3,
          12,
          2,
          27,
          44,
          5,
          1,
          27,
          2,
          1,
          2,
          2,
          1,
          3,
          12,
          25,
          3,
          2,
          4,
          2,
          1,
          24,
          1,
          2,
          2,
          1,
          3,
          4,
          2,
          2,
          1,
          1,
          36,
          1,
          7,
          5,
          14,
          2,
          1,
          28,
          2,
          2,
          25,
          23,
          3,
          1,
          3,
          4,
          3,
          3,
          6,
          2,
          38,
          19,
          2,
          2,
          2,
          7,
          5,
          4,
          1,
          1,
          4,
          1,
          4,
          52,
          2,
          24,
          51,
          3,
          2,
          29,
          5,
          9,
          27,
          1,
          29,
          3,
          1,
          7,
          4,
          3,
          56,
          2,
          13,
          1,
          6,
          29,
          14,
          3,
          2,
          3,
          14,
          3,
          1,
          8
         ],
         "yaxis": "y"
        }
       ],
       "layout": {
        "legend": {
         "itemsizing": "constant",
         "title": {
          "text": "loan_status"
         },
         "tracegroupgap": 0
        },
        "margin": {
         "t": 60
        },
        "template": {
         "data": {
          "bar": [
           {
            "error_x": {
             "color": "#2a3f5f"
            },
            "error_y": {
             "color": "#2a3f5f"
            },
            "marker": {
             "line": {
              "color": "#E5ECF6",
              "width": 0.5
             }
            },
            "type": "bar"
           }
          ],
          "barpolar": [
           {
            "marker": {
             "line": {
              "color": "#E5ECF6",
              "width": 0.5
             }
            },
            "type": "barpolar"
           }
          ],
          "carpet": [
           {
            "aaxis": {
             "endlinecolor": "#2a3f5f",
             "gridcolor": "white",
             "linecolor": "white",
             "minorgridcolor": "white",
             "startlinecolor": "#2a3f5f"
            },
            "baxis": {
             "endlinecolor": "#2a3f5f",
             "gridcolor": "white",
             "linecolor": "white",
             "minorgridcolor": "white",
             "startlinecolor": "#2a3f5f"
            },
            "type": "carpet"
           }
          ],
          "choropleth": [
           {
            "colorbar": {
             "outlinewidth": 0,
             "ticks": ""
            },
            "type": "choropleth"
           }
          ],
          "contour": [
           {
            "colorbar": {
             "outlinewidth": 0,
             "ticks": ""
            },
            "colorscale": [
             [
              0,
              "#0d0887"
             ],
             [
              0.1111111111111111,
              "#46039f"
             ],
             [
              0.2222222222222222,
              "#7201a8"
             ],
             [
              0.3333333333333333,
              "#9c179e"
             ],
             [
              0.4444444444444444,
              "#bd3786"
             ],
             [
              0.5555555555555556,
              "#d8576b"
             ],
             [
              0.6666666666666666,
              "#ed7953"
             ],
             [
              0.7777777777777778,
              "#fb9f3a"
             ],
             [
              0.8888888888888888,
              "#fdca26"
             ],
             [
              1,
              "#f0f921"
             ]
            ],
            "type": "contour"
           }
          ],
          "contourcarpet": [
           {
            "colorbar": {
             "outlinewidth": 0,
             "ticks": ""
            },
            "type": "contourcarpet"
           }
          ],
          "heatmap": [
           {
            "colorbar": {
             "outlinewidth": 0,
             "ticks": ""
            },
            "colorscale": [
             [
              0,
              "#0d0887"
             ],
             [
              0.1111111111111111,
              "#46039f"
             ],
             [
              0.2222222222222222,
              "#7201a8"
             ],
             [
              0.3333333333333333,
              "#9c179e"
             ],
             [
              0.4444444444444444,
              "#bd3786"
             ],
             [
              0.5555555555555556,
              "#d8576b"
             ],
             [
              0.6666666666666666,
              "#ed7953"
             ],
             [
              0.7777777777777778,
              "#fb9f3a"
             ],
             [
              0.8888888888888888,
              "#fdca26"
             ],
             [
              1,
              "#f0f921"
             ]
            ],
            "type": "heatmap"
           }
          ],
          "heatmapgl": [
           {
            "colorbar": {
             "outlinewidth": 0,
             "ticks": ""
            },
            "colorscale": [
             [
              0,
              "#0d0887"
             ],
             [
              0.1111111111111111,
              "#46039f"
             ],
             [
              0.2222222222222222,
              "#7201a8"
             ],
             [
              0.3333333333333333,
              "#9c179e"
             ],
             [
              0.4444444444444444,
              "#bd3786"
             ],
             [
              0.5555555555555556,
              "#d8576b"
             ],
             [
              0.6666666666666666,
              "#ed7953"
             ],
             [
              0.7777777777777778,
              "#fb9f3a"
             ],
             [
              0.8888888888888888,
              "#fdca26"
             ],
             [
              1,
              "#f0f921"
             ]
            ],
            "type": "heatmapgl"
           }
          ],
          "histogram": [
           {
            "marker": {
             "colorbar": {
              "outlinewidth": 0,
              "ticks": ""
             }
            },
            "type": "histogram"
           }
          ],
          "histogram2d": [
           {
            "colorbar": {
             "outlinewidth": 0,
             "ticks": ""
            },
            "colorscale": [
             [
              0,
              "#0d0887"
             ],
             [
              0.1111111111111111,
              "#46039f"
             ],
             [
              0.2222222222222222,
              "#7201a8"
             ],
             [
              0.3333333333333333,
              "#9c179e"
             ],
             [
              0.4444444444444444,
              "#bd3786"
             ],
             [
              0.5555555555555556,
              "#d8576b"
             ],
             [
              0.6666666666666666,
              "#ed7953"
             ],
             [
              0.7777777777777778,
              "#fb9f3a"
             ],
             [
              0.8888888888888888,
              "#fdca26"
             ],
             [
              1,
              "#f0f921"
             ]
            ],
            "type": "histogram2d"
           }
          ],
          "histogram2dcontour": [
           {
            "colorbar": {
             "outlinewidth": 0,
             "ticks": ""
            },
            "colorscale": [
             [
              0,
              "#0d0887"
             ],
             [
              0.1111111111111111,
              "#46039f"
             ],
             [
              0.2222222222222222,
              "#7201a8"
             ],
             [
              0.3333333333333333,
              "#9c179e"
             ],
             [
              0.4444444444444444,
              "#bd3786"
             ],
             [
              0.5555555555555556,
              "#d8576b"
             ],
             [
              0.6666666666666666,
              "#ed7953"
             ],
             [
              0.7777777777777778,
              "#fb9f3a"
             ],
             [
              0.8888888888888888,
              "#fdca26"
             ],
             [
              1,
              "#f0f921"
             ]
            ],
            "type": "histogram2dcontour"
           }
          ],
          "mesh3d": [
           {
            "colorbar": {
             "outlinewidth": 0,
             "ticks": ""
            },
            "type": "mesh3d"
           }
          ],
          "parcoords": [
           {
            "line": {
             "colorbar": {
              "outlinewidth": 0,
              "ticks": ""
             }
            },
            "type": "parcoords"
           }
          ],
          "pie": [
           {
            "automargin": true,
            "type": "pie"
           }
          ],
          "scatter": [
           {
            "marker": {
             "colorbar": {
              "outlinewidth": 0,
              "ticks": ""
             }
            },
            "type": "scatter"
           }
          ],
          "scatter3d": [
           {
            "line": {
             "colorbar": {
              "outlinewidth": 0,
              "ticks": ""
             }
            },
            "marker": {
             "colorbar": {
              "outlinewidth": 0,
              "ticks": ""
             }
            },
            "type": "scatter3d"
           }
          ],
          "scattercarpet": [
           {
            "marker": {
             "colorbar": {
              "outlinewidth": 0,
              "ticks": ""
             }
            },
            "type": "scattercarpet"
           }
          ],
          "scattergeo": [
           {
            "marker": {
             "colorbar": {
              "outlinewidth": 0,
              "ticks": ""
             }
            },
            "type": "scattergeo"
           }
          ],
          "scattergl": [
           {
            "marker": {
             "colorbar": {
              "outlinewidth": 0,
              "ticks": ""
             }
            },
            "type": "scattergl"
           }
          ],
          "scattermapbox": [
           {
            "marker": {
             "colorbar": {
              "outlinewidth": 0,
              "ticks": ""
             }
            },
            "type": "scattermapbox"
           }
          ],
          "scatterpolar": [
           {
            "marker": {
             "colorbar": {
              "outlinewidth": 0,
              "ticks": ""
             }
            },
            "type": "scatterpolar"
           }
          ],
          "scatterpolargl": [
           {
            "marker": {
             "colorbar": {
              "outlinewidth": 0,
              "ticks": ""
             }
            },
            "type": "scatterpolargl"
           }
          ],
          "scatterternary": [
           {
            "marker": {
             "colorbar": {
              "outlinewidth": 0,
              "ticks": ""
             }
            },
            "type": "scatterternary"
           }
          ],
          "surface": [
           {
            "colorbar": {
             "outlinewidth": 0,
             "ticks": ""
            },
            "colorscale": [
             [
              0,
              "#0d0887"
             ],
             [
              0.1111111111111111,
              "#46039f"
             ],
             [
              0.2222222222222222,
              "#7201a8"
             ],
             [
              0.3333333333333333,
              "#9c179e"
             ],
             [
              0.4444444444444444,
              "#bd3786"
             ],
             [
              0.5555555555555556,
              "#d8576b"
             ],
             [
              0.6666666666666666,
              "#ed7953"
             ],
             [
              0.7777777777777778,
              "#fb9f3a"
             ],
             [
              0.8888888888888888,
              "#fdca26"
             ],
             [
              1,
              "#f0f921"
             ]
            ],
            "type": "surface"
           }
          ],
          "table": [
           {
            "cells": {
             "fill": {
              "color": "#EBF0F8"
             },
             "line": {
              "color": "white"
             }
            },
            "header": {
             "fill": {
              "color": "#C8D4E3"
             },
             "line": {
              "color": "white"
             }
            },
            "type": "table"
           }
          ]
         },
         "layout": {
          "annotationdefaults": {
           "arrowcolor": "#2a3f5f",
           "arrowhead": 0,
           "arrowwidth": 1
          },
          "autotypenumbers": "strict",
          "coloraxis": {
           "colorbar": {
            "outlinewidth": 0,
            "ticks": ""
           }
          },
          "colorscale": {
           "diverging": [
            [
             0,
             "#8e0152"
            ],
            [
             0.1,
             "#c51b7d"
            ],
            [
             0.2,
             "#de77ae"
            ],
            [
             0.3,
             "#f1b6da"
            ],
            [
             0.4,
             "#fde0ef"
            ],
            [
             0.5,
             "#f7f7f7"
            ],
            [
             0.6,
             "#e6f5d0"
            ],
            [
             0.7,
             "#b8e186"
            ],
            [
             0.8,
             "#7fbc41"
            ],
            [
             0.9,
             "#4d9221"
            ],
            [
             1,
             "#276419"
            ]
           ],
           "sequential": [
            [
             0,
             "#0d0887"
            ],
            [
             0.1111111111111111,
             "#46039f"
            ],
            [
             0.2222222222222222,
             "#7201a8"
            ],
            [
             0.3333333333333333,
             "#9c179e"
            ],
            [
             0.4444444444444444,
             "#bd3786"
            ],
            [
             0.5555555555555556,
             "#d8576b"
            ],
            [
             0.6666666666666666,
             "#ed7953"
            ],
            [
             0.7777777777777778,
             "#fb9f3a"
            ],
            [
             0.8888888888888888,
             "#fdca26"
            ],
            [
             1,
             "#f0f921"
            ]
           ],
           "sequentialminus": [
            [
             0,
             "#0d0887"
            ],
            [
             0.1111111111111111,
             "#46039f"
            ],
            [
             0.2222222222222222,
             "#7201a8"
            ],
            [
             0.3333333333333333,
             "#9c179e"
            ],
            [
             0.4444444444444444,
             "#bd3786"
            ],
            [
             0.5555555555555556,
             "#d8576b"
            ],
            [
             0.6666666666666666,
             "#ed7953"
            ],
            [
             0.7777777777777778,
             "#fb9f3a"
            ],
            [
             0.8888888888888888,
             "#fdca26"
            ],
            [
             1,
             "#f0f921"
            ]
           ]
          },
          "colorway": [
           "#636efa",
           "#EF553B",
           "#00cc96",
           "#ab63fa",
           "#FFA15A",
           "#19d3f3",
           "#FF6692",
           "#B6E880",
           "#FF97FF",
           "#FECB52"
          ],
          "font": {
           "color": "#2a3f5f"
          },
          "geo": {
           "bgcolor": "white",
           "lakecolor": "white",
           "landcolor": "#E5ECF6",
           "showlakes": true,
           "showland": true,
           "subunitcolor": "white"
          },
          "hoverlabel": {
           "align": "left"
          },
          "hovermode": "closest",
          "mapbox": {
           "style": "light"
          },
          "paper_bgcolor": "white",
          "plot_bgcolor": "#E5ECF6",
          "polar": {
           "angularaxis": {
            "gridcolor": "white",
            "linecolor": "white",
            "ticks": ""
           },
           "bgcolor": "#E5ECF6",
           "radialaxis": {
            "gridcolor": "white",
            "linecolor": "white",
            "ticks": ""
           }
          },
          "scene": {
           "xaxis": {
            "backgroundcolor": "#E5ECF6",
            "gridcolor": "white",
            "gridwidth": 2,
            "linecolor": "white",
            "showbackground": true,
            "ticks": "",
            "zerolinecolor": "white"
           },
           "yaxis": {
            "backgroundcolor": "#E5ECF6",
            "gridcolor": "white",
            "gridwidth": 2,
            "linecolor": "white",
            "showbackground": true,
            "ticks": "",
            "zerolinecolor": "white"
           },
           "zaxis": {
            "backgroundcolor": "#E5ECF6",
            "gridcolor": "white",
            "gridwidth": 2,
            "linecolor": "white",
            "showbackground": true,
            "ticks": "",
            "zerolinecolor": "white"
           }
          },
          "shapedefaults": {
           "line": {
            "color": "#2a3f5f"
           }
          },
          "ternary": {
           "aaxis": {
            "gridcolor": "white",
            "linecolor": "white",
            "ticks": ""
           },
           "baxis": {
            "gridcolor": "white",
            "linecolor": "white",
            "ticks": ""
           },
           "bgcolor": "#E5ECF6",
           "caxis": {
            "gridcolor": "white",
            "linecolor": "white",
            "ticks": ""
           }
          },
          "title": {
           "x": 0.05
          },
          "xaxis": {
           "automargin": true,
           "gridcolor": "white",
           "linecolor": "white",
           "ticks": "",
           "title": {
            "standoff": 15
           },
           "zerolinecolor": "white",
           "zerolinewidth": 2
          },
          "yaxis": {
           "automargin": true,
           "gridcolor": "white",
           "linecolor": "white",
           "ticks": "",
           "title": {
            "standoff": 15
           },
           "zerolinecolor": "white",
           "zerolinewidth": 2
          }
         }
        },
        "xaxis": {
         "anchor": "y",
         "domain": [
          0,
          1
         ],
         "title": {
          "text": "age"
         },
         "type": "log"
        },
        "yaxis": {
         "anchor": "x",
         "domain": [
          0,
          1
         ],
         "title": {
          "text": "past_due_days"
         }
        }
       }
      },
      "text/html": [
       "<div>                            <div id=\"5420c90f-9a84-4198-84fe-3f76d7a41657\" class=\"plotly-graph-div\" style=\"height:525px; width:100%;\"></div>            <script type=\"text/javascript\">                require([\"plotly\"], function(Plotly) {                    window.PLOTLYENV=window.PLOTLYENV || {};                                    if (document.getElementById(\"5420c90f-9a84-4198-84fe-3f76d7a41657\")) {                    Plotly.newPlot(                        \"5420c90f-9a84-4198-84fe-3f76d7a41657\",                        [{\"customdata\": [[\"male\", 1000], [\"female\", 1000], [\"female\", 1000], [\"male\", 1000], [\"female\", 1000], [\"male\", 300], [\"male\", 1000], [\"male\", 1000], [\"male\", 1000], [\"male\", 800], [\"male\", 300], [\"male\", 1000], [\"male\", 1000], [\"female\", 900], [\"male\", 1000], [\"male\", 800], [\"male\", 1000], [\"male\", 1000], [\"male\", 1000], [\"male\", 800], [\"male\", 1000], [\"female\", 1000], [\"male\", 1000], [\"male\", 1000], [\"male\", 1000], [\"male\", 1000], [\"male\", 800], [\"male\", 1000], [\"male\", 1000], [\"male\", 1000], [\"male\", 800], [\"male\", 1000], [\"male\", 1000], [\"male\", 1000], [\"male\", 800], [\"male\", 800], [\"male\", 1000], [\"male\", 700], [\"male\", 1000], [\"male\", 1000], [\"female\", 1000], [\"male\", 800], [\"male\", 1000], [\"male\", 1000], [\"female\", 1000], [\"male\", 800], [\"male\", 1000], [\"male\", 1000], [\"male\", 1000], [\"male\", 800], [\"female\", 800], [\"female\", 1000], [\"female\", 800], [\"male\", 1000], [\"male\", 1000], [\"male\", 1000], [\"male\", 1000], [\"male\", 1000], [\"female\", 800], [\"male\", 800], [\"male\", 1000], [\"male\", 1000], [\"male\", 1000], [\"male\", 1000], [\"male\", 800], [\"male\", 900], [\"male\", 1000], [\"male\", 1000], [\"male\", 300], [\"male\", 1000], [\"male\", 800], [\"male\", 800], [\"female\", 1000], [\"male\", 1000], [\"male\", 1000], [\"male\", 1000], [\"male\", 1000], [\"male\", 1000], [\"female\", 1000], [\"female\", 1000], [\"male\", 1000], [\"male\", 1000], [\"male\", 1000], [\"male\", 800], [\"female\", 1000], [\"male\", 1000], [\"female\", 1000], [\"female\", 1000], [\"male\", 800], [\"female\", 800], [\"female\", 800], [\"female\", 1000], [\"male\", 800], [\"male\", 800], [\"male\", 1000], [\"male\", 1000], [\"male\", 1000], [\"male\", 1000], [\"male\", 1000], [\"female\", 1000], [\"male\", 1000], [\"male\", 800], [\"male\", 1000], [\"male\", 1000], [\"male\", 1000], [\"male\", 1000], [\"male\", 1000], [\"male\", 1000], [\"male\", 1000], [\"male\", 1000], [\"male\", 800], [\"female\", 1000], [\"male\", 1000], [\"male\", 1000], [\"male\", 1000], [\"male\", 1000], [\"male\", 1000], [\"male\", 1000], [\"male\", 1000], [\"male\", 800], [\"male\", 1000], [\"male\", 1000], [\"male\", 1000], [\"male\", 1000], [\"male\", 1000], [\"male\", 1000], [\"male\", 1000], [\"male\", 800], [\"male\", 1000], [\"male\", 1000], [\"male\", 1000], [\"male\", 800], [\"male\", 1000], [\"female\", 1000], [\"male\", 800], [\"male\", 1000], [\"female\", 800], [\"male\", 1000], [\"male\", 1000], [\"male\", 1000], [\"male\", 1000], [\"male\", 800], [\"male\", 1000], [\"female\", 800], [\"male\", 1000], [\"male\", 1000], [\"female\", 1000], [\"male\", 300], [\"male\", 1000], [\"male\", 800], [\"male\", 1000], [\"male\", 800], [\"female\", 500], [\"male\", 1000], [\"male\", 1000], [\"female\", 1000], [\"male\", 1000], [\"male\", 800], [\"female\", 1000], [\"male\", 1000], [\"male\", 1000], [\"male\", 800], [\"male\", 1000], [\"female\", 1000], [\"male\", 1000], [\"male\", 1000], [\"male\", 1000], [\"male\", 800], [\"male\", 1000], [\"male\", 1000], [\"male\", 1000], [\"male\", 1000], [\"male\", 800], [\"male\", 1000], [\"male\", 800], [\"male\", 800], [\"male\", 1000], [\"male\", 1000], [\"male\", 1000], [\"male\", 1000], [\"female\", 1000], [\"male\", 300], [\"male\", 1000], [\"male\", 800], [\"male\", 1000], [\"female\", 1000], [\"male\", 1000], [\"male\", 1000], [\"male\", 800], [\"male\", 800], [\"male\", 1000], [\"male\", 1000], [\"female\", 1000], [\"female\", 1000], [\"male\", 800], [\"male\", 1000], [\"male\", 1000], [\"male\", 1000], [\"male\", 1000], [\"male\", 1000], [\"male\", 1000], [\"female\", 1000], [\"male\", 1000], [\"male\", 800], [\"male\", 1000], [\"female\", 1000], [\"male\", 1000], [\"male\", 1000], [\"male\", 300], [\"male\", 1000], [\"male\", 1000], [\"male\", 1000], [\"female\", 1000], [\"male\", 1000], [\"male\", 1000], [\"female\", 1000], [\"male\", 1000], [\"female\", 800], [\"male\", 1000], [\"male\", 1000], [\"male\", 1000], [\"male\", 1000], [\"male\", 1000], [\"male\", 1000], [\"male\", 1000], [\"male\", 1000], [\"male\", 1000], [\"male\", 800], [\"male\", 800], [\"male\", 800], [\"male\", 1000], [\"female\", 1000], [\"male\", 1000], [\"male\", 1000], [\"male\", 800], [\"male\", 1000], [\"male\", 1000], [\"male\", 800], [\"male\", 1000], [\"male\", 1000], [\"male\", 1000], [\"female\", 1000], [\"male\", 800], [\"female\", 800], [\"male\", 1000], [\"female\", 1000], [\"male\", 800], [\"male\", 800], [\"male\", 1000], [\"female\", 1000], [\"male\", 800], [\"male\", 1000], [\"male\", 1000], [\"male\", 500], [\"male\", 1000], [\"male\", 1000], [\"male\", 800], [\"female\", 1000], [\"male\", 1000], [\"male\", 1000], [\"male\", 800], [\"male\", 1000], [\"female\", 800], [\"male\", 1000], [\"male\", 800], [\"female\", 1000], [\"female\", 800], [\"male\", 1000], [\"male\", 1000], [\"female\", 800], [\"male\", 1000], [\"female\", 1000], [\"male\", 1000], [\"male\", 1000], [\"male\", 1000], [\"male\", 800], [\"male\", 800], [\"male\", 1000], [\"male\", 800], [\"male\", 800], [\"male\", 800], [\"male\", 1000], [\"male\", 1000], [\"male\", 1000], [\"male\", 1000], [\"male\", 1000], [\"male\", 1000], [\"female\", 1000], [\"male\", 1000], [\"male\", 800], [\"female\", 1000], [\"male\", 1000], [\"male\", 1000], [\"male\", 1000], [\"male\", 1000], [\"female\", 1000], [\"male\", 800], [\"male\", 1000], [\"male\", 1000], [\"male\", 1000]], \"hovertemplate\": \"loan_status=PAIDOFF<br>age=%{x}<br>past_due_days=%{y}<br>terms=%{marker.size}<br>Gender=%{customdata[0]}<br>Principal=%{customdata[1]}<extra></extra>\", \"legendgroup\": \"PAIDOFF\", \"marker\": {\"color\": \"#636efa\", \"size\": [30, 30, 30, 15, 30, 7, 30, 30, 30, 15, 7, 15, 30, 7, 7, 15, 30, 15, 30, 30, 30, 30, 30, 15, 30, 30, 15, 15, 30, 30, 15, 30, 30, 30, 15, 15, 30, 15, 15, 30, 15, 15, 7, 15, 15, 7, 30, 30, 30, 15, 15, 30, 15, 30, 30, 15, 30, 30, 15, 15, 30, 15, 30, 30, 15, 15, 30, 30, 7, 30, 15, 15, 30, 15, 15, 30, 30, 30, 30, 30, 30, 7, 15, 15, 30, 30, 30, 30, 15, 15, 15, 7, 15, 15, 30, 30, 15, 30, 30, 30, 7, 15, 30, 15, 15, 30, 30, 30, 30, 7, 15, 30, 30, 30, 30, 15, 30, 30, 30, 15, 30, 30, 15, 15, 30, 30, 15, 15, 15, 30, 15, 15, 30, 30, 15, 30, 15, 15, 15, 30, 30, 15, 7, 15, 30, 15, 30, 7, 15, 15, 15, 15, 15, 15, 30, 30, 15, 15, 15, 30, 15, 15, 30, 15, 15, 30, 30, 30, 15, 30, 15, 30, 15, 30, 15, 15, 30, 30, 30, 30, 15, 7, 30, 15, 30, 30, 30, 15, 15, 15, 30, 30, 15, 30, 15, 30, 30, 15, 30, 30, 15, 30, 15, 15, 30, 7, 30, 30, 7, 30, 15, 30, 30, 30, 30, 30, 15, 15, 15, 30, 15, 30, 30, 15, 30, 30, 15, 15, 15, 15, 15, 7, 30, 30, 15, 30, 30, 15, 15, 15, 30, 15, 15, 15, 7, 30, 15, 15, 30, 15, 15, 30, 30, 7, 30, 30, 15, 15, 7, 30, 15, 15, 30, 15, 15, 15, 15, 15, 30, 30, 30, 30, 30, 30, 30, 15, 15, 30, 15, 30, 15, 15, 30, 30, 15, 30, 30, 30, 30, 15, 15, 30, 30, 30, 30, 30, 15, 30, 30, 30], \"sizemode\": \"area\", \"sizeref\": 0.3, \"symbol\": \"circle\"}, \"mode\": \"markers\", \"name\": \"PAIDOFF\", \"orientation\": \"v\", \"showlegend\": true, \"type\": \"scatter\", \"x\": [45, 50, 33, 27, 28, 35, 29, 36, 28, 26, 29, 39, 26, 26, 27, 26, 40, 32, 32, 26, 26, 43, 25, 26, 26, 29, 39, 34, 31, 33, 33, 37, 27, 37, 33, 29, 27, 33, 24, 21, 32, 30, 31, 30, 24, 35, 22, 32, 32, 50, 27, 35, 35, 34, 21, 25, 27, 26, 44, 39, 34, 37, 34, 45, 24, 28, 28, 37, 35, 43, 29, 29, 33, 34, 25, 30, 31, 35, 37, 44, 28, 25, 29, 33, 37, 33, 24, 27, 43, 46, 34, 32, 38, 27, 33, 36, 26, 34, 22, 31, 29, 38, 30, 45, 35, 30, 31, 31, 28, 29, 29, 27, 27, 33, 28, 25, 40, 23, 35, 24, 34, 22, 20, 23, 33, 26, 28, 43, 34, 38, 26, 43, 26, 33, 24, 30, 32, 22, 47, 20, 28, 35, 27, 33, 30, 31, 26, 37, 26, 35, 29, 23, 23, 30, 34, 36, 26, 29, 28, 27, 24, 31, 28, 27, 25, 24, 28, 28, 35, 38, 38, 29, 35, 24, 39, 25, 38, 30, 21, 46, 31, 29, 35, 30, 27, 31, 33, 34, 28, 42, 32, 30, 25, 27, 21, 24, 29, 40, 29, 29, 30, 26, 36, 27, 20, 26, 26, 27, 23, 39, 27, 30, 33, 27, 35, 29, 50, 31, 31, 29, 35, 39, 29, 30, 33, 26, 25, 37, 26, 26, 27, 34, 37, 36, 33, 30, 30, 36, 29, 36, 32, 29, 36, 30, 31, 19, 26, 34, 35, 35, 38, 29, 28, 22, 32, 31, 28, 37, 25, 19, 51, 29, 23, 30, 23, 34, 31, 24, 42, 40, 29, 32, 28, 35, 30, 44, 37, 31, 36, 31, 42, 28, 30, 30, 24, 34, 29, 38, 34, 28, 30, 41, 29, 37, 36, 30, 27, 29, 40, 28], \"xaxis\": \"x\", \"y\": [null, null, null, null, null, null, null, null, null, null, null, null, null, null, null, null, null, null, null, null, null, null, null, null, null, null, null, null, null, null, null, null, null, null, null, null, null, null, null, null, null, null, null, null, null, null, null, null, null, null, null, null, null, null, null, null, null, null, null, null, null, null, null, null, null, null, null, null, null, null, null, null, null, null, null, null, null, null, null, null, null, null, null, null, null, null, null, null, null, null, null, null, null, null, null, null, null, null, null, null, null, null, null, null, null, null, null, null, null, null, null, null, null, null, null, null, null, null, null, null, null, null, null, null, null, null, null, null, null, null, null, null, null, null, null, null, null, null, null, null, null, null, null, null, null, null, null, null, null, null, null, null, null, null, null, null, null, null, null, null, null, null, null, null, null, null, null, null, null, null, null, null, null, null, null, null, null, null, null, null, null, null, null, null, null, null, null, null, null, null, null, null, null, null, null, null, null, null, null, null, null, null, null, null, null, null, null, null, null, null, null, null, null, null, null, null, null, null, null, null, null, null, null, null, null, null, null, null, null, null, null, null, null, null, null, null, null, null, null, null, null, null, null, null, null, null, null, null, null, null, null, null, null, null, null, null, null, null, null, null, null, null, null, null, null, null, null, null, null, null, null, null, null, null, null, null, null, null, null, null, null, null, null, null, null, null, null, null, null, null, null, null, null, null, null, null, null, null, null, null], \"yaxis\": \"y\"}, {\"customdata\": [[\"male\", 1000], [\"male\", 1000], [\"male\", 1000], [\"male\", 800], [\"male\", 800], [\"female\", 1000], [\"male\", 800], [\"male\", 1000], [\"male\", 1000], [\"male\", 800], [\"male\", 1000], [\"female\", 800], [\"male\", 1000], [\"male\", 1000], [\"male\", 1000], [\"male\", 1000], [\"male\", 1000], [\"male\", 1000], [\"male\", 1000], [\"male\", 1000], [\"male\", 1000], [\"male\", 1000], [\"male\", 1000], [\"male\", 800], [\"male\", 1000], [\"male\", 1000], [\"male\", 800], [\"male\", 1000], [\"female\", 1000], [\"male\", 1000], [\"male\", 1000], [\"male\", 800], [\"male\", 1000], [\"female\", 1000], [\"female\", 1000], [\"male\", 1000], [\"male\", 1000], [\"male\", 1000], [\"female\", 1000], [\"male\", 1000], [\"female\", 1000], [\"male\", 1000], [\"male\", 1000], [\"male\", 1000], [\"male\", 800], [\"male\", 1000], [\"male\", 1000], [\"male\", 800], [\"male\", 1000], [\"male\", 800], [\"male\", 1000], [\"male\", 1000], [\"male\", 1000], [\"male\", 1000], [\"male\", 1000], [\"male\", 1000], [\"male\", 1000], [\"male\", 1000], [\"male\", 1000], [\"male\", 1000], [\"male\", 1000], [\"male\", 800], [\"male\", 1000], [\"male\", 1000], [\"male\", 800], [\"female\", 1000], [\"male\", 800], [\"male\", 800], [\"male\", 1000], [\"male\", 1000], [\"male\", 800], [\"male\", 1000], [\"male\", 800], [\"male\", 1000], [\"male\", 1000], [\"female\", 800], [\"male\", 1000], [\"male\", 1000], [\"male\", 1000], [\"male\", 1000], [\"male\", 1000], [\"male\", 800], [\"male\", 1000], [\"male\", 1000], [\"male\", 1000], [\"male\", 1000], [\"male\", 800], [\"male\", 1000], [\"male\", 1000], [\"male\", 1000], [\"male\", 1000], [\"male\", 800], [\"female\", 1000], [\"male\", 1000], [\"male\", 800], [\"male\", 1000], [\"male\", 1000], [\"male\", 800], [\"male\", 1000], [\"male\", 1000]], \"hovertemplate\": \"loan_status=COLLECTION<br>age=%{x}<br>past_due_days=%{y}<br>terms=%{marker.size}<br>Gender=%{customdata[0]}<br>Principal=%{customdata[1]}<extra></extra>\", \"legendgroup\": \"COLLECTION\", \"marker\": {\"color\": \"#EF553B\", \"size\": [15, 30, 30, 15, 15, 15, 15, 30, 30, 15, 30, 15, 30, 30, 30, 15, 30, 15, 30, 15, 30, 30, 30, 15, 15, 30, 15, 30, 30, 30, 15, 15, 30, 30, 30, 30, 30, 30, 15, 15, 30, 30, 15, 30, 15, 30, 30, 15, 30, 15, 30, 15, 30, 30, 30, 15, 30, 30, 30, 30, 30, 15, 30, 15, 15, 30, 30, 15, 30, 30, 15, 30, 15, 15, 30, 15, 15, 30, 30, 30, 30, 15, 15, 30, 30, 30, 15, 30, 15, 15, 15, 15, 30, 30, 15, 30, 30, 15, 30, 30], \"sizemode\": \"area\", \"sizeref\": 0.3, \"symbol\": \"circle\"}, \"mode\": \"markers\", \"name\": \"COLLECTION\", \"orientation\": \"v\", \"showlegend\": true, \"type\": \"scatter\", \"x\": [29, 37, 33, 27, 24, 31, 28, 40, 33, 41, 30, 26, 27, 20, 24, 26, 30, 29, 22, 24, 25, 28, 37, 32, 34, 28, 35, 27, 24, 44, 31, 27, 21, 30, 38, 34, 31, 23, 27, 39, 30, 25, 50, 23, 38, 27, 31, 40, 32, 29, 26, 25, 35, 41, 37, 34, 45, 26, 32, 28, 34, 29, 26, 26, 22, 27, 33, 28, 24, 37, 36, 18, 25, 40, 29, 26, 30, 33, 30, 32, 25, 35, 30, 26, 29, 26, 46, 36, 38, 32, 30, 35, 29, 26, 32, 25, 33, 39, 28, 26], \"xaxis\": \"x\", \"y\": [76.0, 61.0, 61.0, 76.0, 76.0, 75.0, 60.0, 60.0, 60.0, 75.0, 60.0, 75.0, 60.0, 60.0, 60.0, 60.0, 60.0, 75.0, 60.0, 75.0, 60.0, 60.0, 60.0, 75.0, 75.0, 59.0, 74.0, 29.0, 59.0, 59.0, 44.0, 74.0, 59.0, 59.0, 59.0, 59.0, 59.0, 59.0, 74.0, 74.0, 59.0, 59.0, 74.0, 59.0, 74.0, 59.0, 29.0, 74.0, 59.0, 74.0, 59.0, 74.0, 59.0, 59.0, 59.0, 59.0, 59.0, 59.0, 59.0, 59.0, 59.0, 74.0, 59.0, 74.0, 74.0, 59.0, 59.0, 74.0, 59.0, 59.0, 74.0, 59.0, 74.0, 74.0, 59.0, 74.0, 74.0, 59.0, 59.0, 59.0, 59.0, 74.0, 74.0, 59.0, 59.0, 29.0, 74.0, 59.0, 74.0, 44.0, 74.0, 74.0, 59.0, 29.0, 74.0, 59.0, 58.0, 73.0, 28.0, 58.0], \"yaxis\": \"y\"}, {\"customdata\": [[\"male\", 1000], [\"male\", 1000], [\"male\", 1000], [\"male\", 1000], [\"male\", 800], [\"male\", 1000], [\"male\", 800], [\"male\", 1000], [\"male\", 1000], [\"male\", 1000], [\"female\", 800], [\"male\", 1000], [\"male\", 800], [\"male\", 1000], [\"female\", 1000], [\"male\", 800], [\"female\", 1000], [\"male\", 800], [\"male\", 800], [\"male\", 1000], [\"female\", 1000], [\"male\", 1000], [\"male\", 800], [\"male\", 1000], [\"male\", 1000], [\"male\", 1000], [\"male\", 1000], [\"female\", 1000], [\"male\", 1000], [\"male\", 500], [\"male\", 800], [\"male\", 1000], [\"female\", 800], [\"male\", 1000], [\"male\", 1000], [\"male\", 1000], [\"male\", 1000], [\"male\", 1000], [\"female\", 1000], [\"male\", 1000], [\"male\", 1000], [\"male\", 1000], [\"male\", 1000], [\"female\", 1000], [\"male\", 1000], [\"male\", 1000], [\"male\", 1000], [\"male\", 1000], [\"male\", 1000], [\"male\", 1000], [\"male\", 1000], [\"male\", 800], [\"male\", 1000], [\"male\", 1000], [\"male\", 1000], [\"male\", 1000], [\"male\", 1000], [\"male\", 1000], [\"male\", 1000], [\"male\", 800], [\"male\", 800], [\"male\", 1000], [\"male\", 1000], [\"male\", 1000], [\"female\", 1000], [\"female\", 1000], [\"male\", 1000], [\"male\", 1000], [\"male\", 1000], [\"male\", 1000], [\"male\", 1000], [\"male\", 1000], [\"male\", 800], [\"male\", 1000], [\"female\", 800], [\"female\", 1000], [\"female\", 800], [\"male\", 1000], [\"male\", 1000], [\"male\", 1000], [\"male\", 1000], [\"male\", 1000], [\"male\", 800], [\"male\", 1000], [\"male\", 1000], [\"male\", 1000], [\"male\", 800], [\"male\", 1000], [\"male\", 1000], [\"male\", 1000], [\"male\", 1000], [\"male\", 1000], [\"male\", 1000], [\"male\", 1000], [\"male\", 1000], [\"male\", 1000], [\"male\", 1000], [\"male\", 800], [\"female\", 1000], [\"male\", 1000]], \"hovertemplate\": \"loan_status=COLLECTION_PAIDOFF<br>age=%{x}<br>past_due_days=%{y}<br>terms=%{marker.size}<br>Gender=%{customdata[0]}<br>Principal=%{customdata[1]}<extra></extra>\", \"legendgroup\": \"COLLECTION_PAIDOFF\", \"marker\": {\"color\": \"#00cc96\", \"size\": [30, 15, 30, 15, 15, 30, 15, 30, 30, 15, 15, 30, 15, 15, 30, 15, 30, 15, 15, 30, 15, 30, 15, 15, 30, 30, 30, 30, 30, 15, 15, 15, 7, 30, 30, 30, 30, 30, 30, 30, 30, 15, 30, 30, 30, 15, 30, 30, 30, 30, 30, 15, 15, 30, 30, 15, 30, 30, 30, 15, 15, 30, 30, 15, 30, 30, 30, 15, 30, 30, 15, 30, 15, 30, 15, 30, 15, 30, 15, 30, 15, 15, 15, 30, 30, 30, 15, 30, 15, 30, 30, 30, 30, 15, 30, 30, 15, 15, 30, 30], \"sizemode\": \"area\", \"sizeref\": 0.3, \"symbol\": \"circle\"}, \"mode\": \"markers\", \"name\": \"COLLECTION_PAIDOFF\", \"orientation\": \"v\", \"showlegend\": true, \"type\": \"scatter\", \"x\": [26, 28, 39, 29, 33, 27, 34, 26, 28, 32, 27, 21, 39, 38, 36, 33, 21, 25, 29, 33, 47, 33, 23, 24, 27, 32, 33, 27, 35, 37, 28, 33, 34, 29, 34, 29, 24, 34, 25, 24, 30, 28, 24, 26, 24, 29, 31, 26, 25, 29, 38, 41, 26, 26, 35, 37, 25, 24, 34, 33, 38, 38, 26, 37, 42, 49, 26, 41, 38, 26, 32, 27, 33, 30, 26, 35, 46, 27, 22, 27, 30, 27, 47, 30, 26, 38, 46, 35, 45, 36, 38, 27, 27, 29, 30, 28, 26, 30, 38, 28], \"xaxis\": \"x\", \"y\": [2.0, 4.0, 13.0, 5.0, 3.0, 12.0, 2.0, 27.0, 44.0, 5.0, 1.0, 27.0, 2.0, 1.0, 2.0, 2.0, 1.0, 3.0, 12.0, 25.0, 3.0, 2.0, 4.0, 2.0, 1.0, 24.0, 1.0, 2.0, 2.0, 1.0, 3.0, 4.0, 2.0, 2.0, 1.0, 1.0, 36.0, 1.0, 7.0, 5.0, 14.0, 2.0, 1.0, 28.0, 2.0, 2.0, 25.0, 23.0, 3.0, 1.0, 3.0, 4.0, 3.0, 3.0, 6.0, 2.0, 38.0, 19.0, 2.0, 2.0, 2.0, 7.0, 5.0, 4.0, 1.0, 1.0, 4.0, 1.0, 4.0, 52.0, 2.0, 24.0, 51.0, 3.0, 2.0, 29.0, 5.0, 9.0, 27.0, 1.0, 29.0, 3.0, 1.0, 7.0, 4.0, 3.0, 56.0, 2.0, 13.0, 1.0, 6.0, 29.0, 14.0, 3.0, 2.0, 3.0, 14.0, 3.0, 1.0, 8.0], \"yaxis\": \"y\"}],                        {\"legend\": {\"itemsizing\": \"constant\", \"title\": {\"text\": \"loan_status\"}, \"tracegroupgap\": 0}, \"margin\": {\"t\": 60}, \"template\": {\"data\": {\"bar\": [{\"error_x\": {\"color\": \"#2a3f5f\"}, \"error_y\": {\"color\": \"#2a3f5f\"}, \"marker\": {\"line\": {\"color\": \"#E5ECF6\", \"width\": 0.5}}, \"type\": \"bar\"}], \"barpolar\": [{\"marker\": {\"line\": {\"color\": \"#E5ECF6\", \"width\": 0.5}}, \"type\": \"barpolar\"}], \"carpet\": [{\"aaxis\": {\"endlinecolor\": \"#2a3f5f\", \"gridcolor\": \"white\", \"linecolor\": \"white\", \"minorgridcolor\": \"white\", \"startlinecolor\": \"#2a3f5f\"}, \"baxis\": {\"endlinecolor\": \"#2a3f5f\", \"gridcolor\": \"white\", \"linecolor\": \"white\", \"minorgridcolor\": \"white\", \"startlinecolor\": \"#2a3f5f\"}, \"type\": \"carpet\"}], \"choropleth\": [{\"colorbar\": {\"outlinewidth\": 0, \"ticks\": \"\"}, \"type\": \"choropleth\"}], \"contour\": [{\"colorbar\": {\"outlinewidth\": 0, \"ticks\": \"\"}, \"colorscale\": [[0.0, \"#0d0887\"], [0.1111111111111111, \"#46039f\"], [0.2222222222222222, \"#7201a8\"], [0.3333333333333333, \"#9c179e\"], [0.4444444444444444, \"#bd3786\"], [0.5555555555555556, \"#d8576b\"], [0.6666666666666666, \"#ed7953\"], [0.7777777777777778, \"#fb9f3a\"], [0.8888888888888888, \"#fdca26\"], [1.0, \"#f0f921\"]], \"type\": \"contour\"}], \"contourcarpet\": [{\"colorbar\": {\"outlinewidth\": 0, \"ticks\": \"\"}, \"type\": \"contourcarpet\"}], \"heatmap\": [{\"colorbar\": {\"outlinewidth\": 0, \"ticks\": \"\"}, \"colorscale\": [[0.0, \"#0d0887\"], [0.1111111111111111, \"#46039f\"], [0.2222222222222222, \"#7201a8\"], [0.3333333333333333, \"#9c179e\"], [0.4444444444444444, \"#bd3786\"], [0.5555555555555556, \"#d8576b\"], [0.6666666666666666, \"#ed7953\"], [0.7777777777777778, \"#fb9f3a\"], [0.8888888888888888, \"#fdca26\"], [1.0, \"#f0f921\"]], \"type\": \"heatmap\"}], \"heatmapgl\": [{\"colorbar\": {\"outlinewidth\": 0, \"ticks\": \"\"}, \"colorscale\": [[0.0, \"#0d0887\"], [0.1111111111111111, \"#46039f\"], [0.2222222222222222, \"#7201a8\"], [0.3333333333333333, \"#9c179e\"], [0.4444444444444444, \"#bd3786\"], [0.5555555555555556, \"#d8576b\"], [0.6666666666666666, \"#ed7953\"], [0.7777777777777778, \"#fb9f3a\"], [0.8888888888888888, \"#fdca26\"], [1.0, \"#f0f921\"]], \"type\": \"heatmapgl\"}], \"histogram\": [{\"marker\": {\"colorbar\": {\"outlinewidth\": 0, \"ticks\": \"\"}}, \"type\": \"histogram\"}], \"histogram2d\": [{\"colorbar\": {\"outlinewidth\": 0, \"ticks\": \"\"}, \"colorscale\": [[0.0, \"#0d0887\"], [0.1111111111111111, \"#46039f\"], [0.2222222222222222, \"#7201a8\"], [0.3333333333333333, \"#9c179e\"], [0.4444444444444444, \"#bd3786\"], [0.5555555555555556, \"#d8576b\"], [0.6666666666666666, \"#ed7953\"], [0.7777777777777778, \"#fb9f3a\"], [0.8888888888888888, \"#fdca26\"], [1.0, \"#f0f921\"]], \"type\": \"histogram2d\"}], \"histogram2dcontour\": [{\"colorbar\": {\"outlinewidth\": 0, \"ticks\": \"\"}, \"colorscale\": [[0.0, \"#0d0887\"], [0.1111111111111111, \"#46039f\"], [0.2222222222222222, \"#7201a8\"], [0.3333333333333333, \"#9c179e\"], [0.4444444444444444, \"#bd3786\"], [0.5555555555555556, \"#d8576b\"], [0.6666666666666666, \"#ed7953\"], [0.7777777777777778, \"#fb9f3a\"], [0.8888888888888888, \"#fdca26\"], [1.0, \"#f0f921\"]], \"type\": \"histogram2dcontour\"}], \"mesh3d\": [{\"colorbar\": {\"outlinewidth\": 0, \"ticks\": \"\"}, \"type\": \"mesh3d\"}], \"parcoords\": [{\"line\": {\"colorbar\": {\"outlinewidth\": 0, \"ticks\": \"\"}}, \"type\": \"parcoords\"}], \"pie\": [{\"automargin\": true, \"type\": \"pie\"}], \"scatter\": [{\"marker\": {\"colorbar\": {\"outlinewidth\": 0, \"ticks\": \"\"}}, \"type\": \"scatter\"}], \"scatter3d\": [{\"line\": {\"colorbar\": {\"outlinewidth\": 0, \"ticks\": \"\"}}, \"marker\": {\"colorbar\": {\"outlinewidth\": 0, \"ticks\": \"\"}}, \"type\": \"scatter3d\"}], \"scattercarpet\": [{\"marker\": {\"colorbar\": {\"outlinewidth\": 0, \"ticks\": \"\"}}, \"type\": \"scattercarpet\"}], \"scattergeo\": [{\"marker\": {\"colorbar\": {\"outlinewidth\": 0, \"ticks\": \"\"}}, \"type\": \"scattergeo\"}], \"scattergl\": [{\"marker\": {\"colorbar\": {\"outlinewidth\": 0, \"ticks\": \"\"}}, \"type\": \"scattergl\"}], \"scattermapbox\": [{\"marker\": {\"colorbar\": {\"outlinewidth\": 0, \"ticks\": \"\"}}, \"type\": \"scattermapbox\"}], \"scatterpolar\": [{\"marker\": {\"colorbar\": {\"outlinewidth\": 0, \"ticks\": \"\"}}, \"type\": \"scatterpolar\"}], \"scatterpolargl\": [{\"marker\": {\"colorbar\": {\"outlinewidth\": 0, \"ticks\": \"\"}}, \"type\": \"scatterpolargl\"}], \"scatterternary\": [{\"marker\": {\"colorbar\": {\"outlinewidth\": 0, \"ticks\": \"\"}}, \"type\": \"scatterternary\"}], \"surface\": [{\"colorbar\": {\"outlinewidth\": 0, \"ticks\": \"\"}, \"colorscale\": [[0.0, \"#0d0887\"], [0.1111111111111111, \"#46039f\"], [0.2222222222222222, \"#7201a8\"], [0.3333333333333333, \"#9c179e\"], [0.4444444444444444, \"#bd3786\"], [0.5555555555555556, \"#d8576b\"], [0.6666666666666666, \"#ed7953\"], [0.7777777777777778, \"#fb9f3a\"], [0.8888888888888888, \"#fdca26\"], [1.0, \"#f0f921\"]], \"type\": \"surface\"}], \"table\": [{\"cells\": {\"fill\": {\"color\": \"#EBF0F8\"}, \"line\": {\"color\": \"white\"}}, \"header\": {\"fill\": {\"color\": \"#C8D4E3\"}, \"line\": {\"color\": \"white\"}}, \"type\": \"table\"}]}, \"layout\": {\"annotationdefaults\": {\"arrowcolor\": \"#2a3f5f\", \"arrowhead\": 0, \"arrowwidth\": 1}, \"autotypenumbers\": \"strict\", \"coloraxis\": {\"colorbar\": {\"outlinewidth\": 0, \"ticks\": \"\"}}, \"colorscale\": {\"diverging\": [[0, \"#8e0152\"], [0.1, \"#c51b7d\"], [0.2, \"#de77ae\"], [0.3, \"#f1b6da\"], [0.4, \"#fde0ef\"], [0.5, \"#f7f7f7\"], [0.6, \"#e6f5d0\"], [0.7, \"#b8e186\"], [0.8, \"#7fbc41\"], [0.9, \"#4d9221\"], [1, \"#276419\"]], \"sequential\": [[0.0, \"#0d0887\"], [0.1111111111111111, \"#46039f\"], [0.2222222222222222, \"#7201a8\"], [0.3333333333333333, \"#9c179e\"], [0.4444444444444444, \"#bd3786\"], [0.5555555555555556, \"#d8576b\"], [0.6666666666666666, \"#ed7953\"], [0.7777777777777778, \"#fb9f3a\"], [0.8888888888888888, \"#fdca26\"], [1.0, \"#f0f921\"]], \"sequentialminus\": [[0.0, \"#0d0887\"], [0.1111111111111111, \"#46039f\"], [0.2222222222222222, \"#7201a8\"], [0.3333333333333333, \"#9c179e\"], [0.4444444444444444, \"#bd3786\"], [0.5555555555555556, \"#d8576b\"], [0.6666666666666666, \"#ed7953\"], [0.7777777777777778, \"#fb9f3a\"], [0.8888888888888888, \"#fdca26\"], [1.0, \"#f0f921\"]]}, \"colorway\": [\"#636efa\", \"#EF553B\", \"#00cc96\", \"#ab63fa\", \"#FFA15A\", \"#19d3f3\", \"#FF6692\", \"#B6E880\", \"#FF97FF\", \"#FECB52\"], \"font\": {\"color\": \"#2a3f5f\"}, \"geo\": {\"bgcolor\": \"white\", \"lakecolor\": \"white\", \"landcolor\": \"#E5ECF6\", \"showlakes\": true, \"showland\": true, \"subunitcolor\": \"white\"}, \"hoverlabel\": {\"align\": \"left\"}, \"hovermode\": \"closest\", \"mapbox\": {\"style\": \"light\"}, \"paper_bgcolor\": \"white\", \"plot_bgcolor\": \"#E5ECF6\", \"polar\": {\"angularaxis\": {\"gridcolor\": \"white\", \"linecolor\": \"white\", \"ticks\": \"\"}, \"bgcolor\": \"#E5ECF6\", \"radialaxis\": {\"gridcolor\": \"white\", \"linecolor\": \"white\", \"ticks\": \"\"}}, \"scene\": {\"xaxis\": {\"backgroundcolor\": \"#E5ECF6\", \"gridcolor\": \"white\", \"gridwidth\": 2, \"linecolor\": \"white\", \"showbackground\": true, \"ticks\": \"\", \"zerolinecolor\": \"white\"}, \"yaxis\": {\"backgroundcolor\": \"#E5ECF6\", \"gridcolor\": \"white\", \"gridwidth\": 2, \"linecolor\": \"white\", \"showbackground\": true, \"ticks\": \"\", \"zerolinecolor\": \"white\"}, \"zaxis\": {\"backgroundcolor\": \"#E5ECF6\", \"gridcolor\": \"white\", \"gridwidth\": 2, \"linecolor\": \"white\", \"showbackground\": true, \"ticks\": \"\", \"zerolinecolor\": \"white\"}}, \"shapedefaults\": {\"line\": {\"color\": \"#2a3f5f\"}}, \"ternary\": {\"aaxis\": {\"gridcolor\": \"white\", \"linecolor\": \"white\", \"ticks\": \"\"}, \"baxis\": {\"gridcolor\": \"white\", \"linecolor\": \"white\", \"ticks\": \"\"}, \"bgcolor\": \"#E5ECF6\", \"caxis\": {\"gridcolor\": \"white\", \"linecolor\": \"white\", \"ticks\": \"\"}}, \"title\": {\"x\": 0.05}, \"xaxis\": {\"automargin\": true, \"gridcolor\": \"white\", \"linecolor\": \"white\", \"ticks\": \"\", \"title\": {\"standoff\": 15}, \"zerolinecolor\": \"white\", \"zerolinewidth\": 2}, \"yaxis\": {\"automargin\": true, \"gridcolor\": \"white\", \"linecolor\": \"white\", \"ticks\": \"\", \"title\": {\"standoff\": 15}, \"zerolinecolor\": \"white\", \"zerolinewidth\": 2}}}, \"xaxis\": {\"anchor\": \"y\", \"domain\": [0.0, 1.0], \"title\": {\"text\": \"age\"}, \"type\": \"log\"}, \"yaxis\": {\"anchor\": \"x\", \"domain\": [0.0, 1.0], \"title\": {\"text\": \"past_due_days\"}}},                        {\"responsive\": true}                    ).then(function(){\n",
       "                            \n",
       "var gd = document.getElementById('5420c90f-9a84-4198-84fe-3f76d7a41657');\n",
       "var x = new MutationObserver(function (mutations, observer) {{\n",
       "        var display = window.getComputedStyle(gd).display;\n",
       "        if (!display || display === 'none') {{\n",
       "            console.log([gd, 'removed!']);\n",
       "            Plotly.purge(gd);\n",
       "            observer.disconnect();\n",
       "        }}\n",
       "}});\n",
       "\n",
       "// Listen for the removal of the full notebook cells\n",
       "var notebookContainer = gd.closest('#notebook-container');\n",
       "if (notebookContainer) {{\n",
       "    x.observe(notebookContainer, {childList: true});\n",
       "}}\n",
       "\n",
       "// Listen for the clearing of the current output cell\n",
       "var outputEl = gd.closest('.output');\n",
       "if (outputEl) {{\n",
       "    x.observe(outputEl, {childList: true});\n",
       "}}\n",
       "\n",
       "                        })                };                });            </script>        </div>"
      ]
     },
     "metadata": {},
     "output_type": "display_data"
    }
   ],
   "source": [
    "px.scatter(loan,x=\"age\",y=\"past_due_days\",size=\"terms\",color=\"loan_status\",\n",
    "           hover_data=['Gender','Principal'], log_x=True, size_max=10)"
   ]
  },
  {
   "cell_type": "markdown",
   "metadata": {},
   "source": [
    "#### Majority of the old people have paid back in time"
   ]
  },
  {
   "cell_type": "markdown",
   "metadata": {},
   "source": [
    "## Loan correlation"
   ]
  },
  {
   "cell_type": "code",
   "execution_count": 65,
   "metadata": {},
   "outputs": [
    {
     "data": {
      "text/plain": [
       "[Text(0.5, 0, 'Principal'),\n",
       " Text(1.5, 0, 'terms'),\n",
       " Text(2.5, 0, 'past_due_days'),\n",
       " Text(3.5, 0, 'age')]"
      ]
     },
     "execution_count": 65,
     "metadata": {},
     "output_type": "execute_result"
    },
    {
     "data": {
      "image/png": "[encoded data removed]",
      "text/plain": [
       "<Figure size 864x720 with 2 Axes>"
      ]
     },
     "metadata": {
      "needs_background": "light"
     },
     "output_type": "display_data"
    }
   ],
   "source": [
    "correlation=loan[loan.columns].corr()\n",
    "plt.figure(figsize=(12, 10))\n",
    "plot=sns.heatmap(correlation,vmin=-1,vmax=1,annot=True,annot_kws={\"size\":10})\n",
    "plot.set_xticklabels(plot.get_xticklabels(), rotation=30)"
   ]
  },
  {
   "cell_type": "markdown",
   "metadata": {},
   "source": [
    "## Conclusions drawn from the Data Analysis"
   ]
  },
  {
   "cell_type": "markdown",
   "metadata": {},
   "source": [
    "-> 20% of the people have not repaid the loan 20% of the people have repaid the loan but lately after due date and 60% of the      people have repaid the loan on time\n",
    "-> Majority of the loan takers are from High School or College background.\n",
    "-> Majority of the people who took loan have age ranging from 24 years to 38 years.\n",
    "-> Majority of the people have opted for Principal of  800and 1000\n",
    "-> Majority of the late payments are from people who have their loan terms as 15 days and 30 days.\n",
    "-> Most of the Elder people (35 - 50 years) have paid back loan on time.\n",
    "\n"
   ]
  },
  {
   "cell_type": "markdown",
   "metadata": {},
   "source": [
    "## Data Modelling"
   ]
  },
  {
   "cell_type": "code",
   "execution_count": 122,
   "metadata": {},
   "outputs": [
    {
     "data": {
      "text/html": [
       "<div>\n",
       "<style scoped>\n",
       "    .dataframe tbody tr th:only-of-type {\n",
       "        vertical-align: middle;\n",
       "    }\n",
       "\n",
       "    .dataframe tbody tr th {\n",
       "        vertical-align: top;\n",
       "    }\n",
       "\n",
       "    .dataframe thead th {\n",
       "        text-align: right;\n",
       "    }\n",
       "</style>\n",
       "<table border=\"1\" class=\"dataframe\">\n",
       "  <thead>\n",
       "    <tr style=\"text-align: right;\">\n",
       "      <th></th>\n",
       "      <th>Loan_ID</th>\n",
       "      <th>loan_status</th>\n",
       "      <th>Principal</th>\n",
       "      <th>terms</th>\n",
       "      <th>effective_date</th>\n",
       "      <th>due_date</th>\n",
       "      <th>paid_off_time</th>\n",
       "      <th>past_due_days</th>\n",
       "      <th>age</th>\n",
       "      <th>education</th>\n",
       "      <th>Gender</th>\n",
       "    </tr>\n",
       "  </thead>\n",
       "  <tbody>\n",
       "    <tr>\n",
       "      <th>0</th>\n",
       "      <td>xqd20166231</td>\n",
       "      <td>PAIDOFF</td>\n",
       "      <td>1000</td>\n",
       "      <td>30</td>\n",
       "      <td>2016-09-08</td>\n",
       "      <td>2016-10-07</td>\n",
       "      <td>2016-09-14</td>\n",
       "      <td>0.0</td>\n",
       "      <td>45</td>\n",
       "      <td>High School or Below</td>\n",
       "      <td>male</td>\n",
       "    </tr>\n",
       "    <tr>\n",
       "      <th>1</th>\n",
       "      <td>xqd20168902</td>\n",
       "      <td>PAIDOFF</td>\n",
       "      <td>1000</td>\n",
       "      <td>30</td>\n",
       "      <td>2016-09-08</td>\n",
       "      <td>2016-10-07</td>\n",
       "      <td>2016-10-07</td>\n",
       "      <td>0.0</td>\n",
       "      <td>50</td>\n",
       "      <td>Bachelor</td>\n",
       "      <td>female</td>\n",
       "    </tr>\n",
       "    <tr>\n",
       "      <th>2</th>\n",
       "      <td>xqd20160003</td>\n",
       "      <td>PAIDOFF</td>\n",
       "      <td>1000</td>\n",
       "      <td>30</td>\n",
       "      <td>2016-09-08</td>\n",
       "      <td>2016-10-07</td>\n",
       "      <td>2016-09-25</td>\n",
       "      <td>0.0</td>\n",
       "      <td>33</td>\n",
       "      <td>Bachelor</td>\n",
       "      <td>female</td>\n",
       "    </tr>\n",
       "    <tr>\n",
       "      <th>3</th>\n",
       "      <td>xqd20160004</td>\n",
       "      <td>PAIDOFF</td>\n",
       "      <td>1000</td>\n",
       "      <td>15</td>\n",
       "      <td>2016-09-08</td>\n",
       "      <td>2016-09-22</td>\n",
       "      <td>2016-09-22</td>\n",
       "      <td>0.0</td>\n",
       "      <td>27</td>\n",
       "      <td>college</td>\n",
       "      <td>male</td>\n",
       "    </tr>\n",
       "    <tr>\n",
       "      <th>4</th>\n",
       "      <td>xqd20160005</td>\n",
       "      <td>PAIDOFF</td>\n",
       "      <td>1000</td>\n",
       "      <td>30</td>\n",
       "      <td>2016-09-09</td>\n",
       "      <td>2016-10-08</td>\n",
       "      <td>2016-09-23</td>\n",
       "      <td>0.0</td>\n",
       "      <td>28</td>\n",
       "      <td>college</td>\n",
       "      <td>female</td>\n",
       "    </tr>\n",
       "  </tbody>\n",
       "</table>\n",
       "</div>"
      ],
      "text/plain": [
       "       Loan_ID loan_status  Principal  terms effective_date   due_date  \\\n",
       "0  xqd20166231     PAIDOFF       1000     30     2016-09-08 2016-10-07   \n",
       "1  xqd20168902     PAIDOFF       1000     30     2016-09-08 2016-10-07   \n",
       "2  xqd20160003     PAIDOFF       1000     30     2016-09-08 2016-10-07   \n",
       "3  xqd20160004     PAIDOFF       1000     15     2016-09-08 2016-09-22   \n",
       "4  xqd20160005     PAIDOFF       1000     30     2016-09-09 2016-10-08   \n",
       "\n",
       "  paid_off_time  past_due_days  age             education  Gender  \n",
       "0    2016-09-14            0.0   45  High School or Below    male  \n",
       "1    2016-10-07            0.0   50              Bachelor  female  \n",
       "2    2016-09-25            0.0   33              Bachelor  female  \n",
       "3    2016-09-22            0.0   27               college    male  \n",
       "4    2016-09-23            0.0   28               college  female  "
      ]
     },
     "execution_count": 122,
     "metadata": {},
     "output_type": "execute_result"
    }
   ],
   "source": [
    "loan.head()"
   ]
  },
  {
   "cell_type": "markdown",
   "metadata": {},
   "source": [
    "#### Removing unnecessary columns"
   ]
  },
  {
   "cell_type": "code",
   "execution_count": 123,
   "metadata": {},
   "outputs": [
    {
     "data": {
      "text/html": [
       "<div>\n",
       "<style scoped>\n",
       "    .dataframe tbody tr th:only-of-type {\n",
       "        vertical-align: middle;\n",
       "    }\n",
       "\n",
       "    .dataframe tbody tr th {\n",
       "        vertical-align: top;\n",
       "    }\n",
       "\n",
       "    .dataframe thead th {\n",
       "        text-align: right;\n",
       "    }\n",
       "</style>\n",
       "<table border=\"1\" class=\"dataframe\">\n",
       "  <thead>\n",
       "    <tr style=\"text-align: right;\">\n",
       "      <th></th>\n",
       "      <th>loan_status</th>\n",
       "      <th>Principal</th>\n",
       "      <th>terms</th>\n",
       "      <th>age</th>\n",
       "      <th>education</th>\n",
       "      <th>Gender</th>\n",
       "    </tr>\n",
       "  </thead>\n",
       "  <tbody>\n",
       "    <tr>\n",
       "      <th>0</th>\n",
       "      <td>PAIDOFF</td>\n",
       "      <td>1000</td>\n",
       "      <td>30</td>\n",
       "      <td>45</td>\n",
       "      <td>High School or Below</td>\n",
       "      <td>male</td>\n",
       "    </tr>\n",
       "    <tr>\n",
       "      <th>1</th>\n",
       "      <td>PAIDOFF</td>\n",
       "      <td>1000</td>\n",
       "      <td>30</td>\n",
       "      <td>50</td>\n",
       "      <td>Bachelor</td>\n",
       "      <td>female</td>\n",
       "    </tr>\n",
       "    <tr>\n",
       "      <th>2</th>\n",
       "      <td>PAIDOFF</td>\n",
       "      <td>1000</td>\n",
       "      <td>30</td>\n",
       "      <td>33</td>\n",
       "      <td>Bachelor</td>\n",
       "      <td>female</td>\n",
       "    </tr>\n",
       "    <tr>\n",
       "      <th>3</th>\n",
       "      <td>PAIDOFF</td>\n",
       "      <td>1000</td>\n",
       "      <td>15</td>\n",
       "      <td>27</td>\n",
       "      <td>college</td>\n",
       "      <td>male</td>\n",
       "    </tr>\n",
       "    <tr>\n",
       "      <th>4</th>\n",
       "      <td>PAIDOFF</td>\n",
       "      <td>1000</td>\n",
       "      <td>30</td>\n",
       "      <td>28</td>\n",
       "      <td>college</td>\n",
       "      <td>female</td>\n",
       "    </tr>\n",
       "  </tbody>\n",
       "</table>\n",
       "</div>"
      ],
      "text/plain": [
       "  loan_status  Principal  terms  age             education  Gender\n",
       "0     PAIDOFF       1000     30   45  High School or Below    male\n",
       "1     PAIDOFF       1000     30   50              Bachelor  female\n",
       "2     PAIDOFF       1000     30   33              Bachelor  female\n",
       "3     PAIDOFF       1000     15   27               college    male\n",
       "4     PAIDOFF       1000     30   28               college  female"
      ]
     },
     "execution_count": 123,
     "metadata": {},
     "output_type": "execute_result"
    }
   ],
   "source": [
    "loan=loan.drop(columns=['Loan_ID','paid_off_time','effective_date','due_date','past_due_days'])\n",
    "loan.head()"
   ]
  },
  {
   "cell_type": "code",
   "execution_count": null,
   "metadata": {},
   "outputs": [],
   "source": []
  },
  {
   "cell_type": "markdown",
   "metadata": {},
   "source": [
    "#### Label encoding the categorical data"
   ]
  },
  {
   "cell_type": "code",
   "execution_count": 124,
   "metadata": {},
   "outputs": [
    {
     "data": {
      "text/plain": [
       "2    300\n",
       "1    100\n",
       "0    100\n",
       "Name: loan_status, dtype: int64"
      ]
     },
     "execution_count": 124,
     "metadata": {},
     "output_type": "execute_result"
    }
   ],
   "source": [
    "enc = LabelEncoder()\n",
    "\n",
    "loan['loan_status']=enc.fit_transform(loan['loan_status'])\n",
    "\n",
    "loan['loan_status'].value_counts()"
   ]
  },
  {
   "cell_type": "code",
   "execution_count": 125,
   "metadata": {},
   "outputs": [],
   "source": [
    "loan['education']=enc.fit_transform(loan['education'])\n",
    "loan['Gender']=enc.fit_transform(loan['Gender'])"
   ]
  },
  {
   "cell_type": "code",
   "execution_count": 126,
   "metadata": {},
   "outputs": [
    {
     "data": {
      "text/html": [
       "<div>\n",
       "<style scoped>\n",
       "    .dataframe tbody tr th:only-of-type {\n",
       "        vertical-align: middle;\n",
       "    }\n",
       "\n",
       "    .dataframe tbody tr th {\n",
       "        vertical-align: top;\n",
       "    }\n",
       "\n",
       "    .dataframe thead th {\n",
       "        text-align: right;\n",
       "    }\n",
       "</style>\n",
       "<table border=\"1\" class=\"dataframe\">\n",
       "  <thead>\n",
       "    <tr style=\"text-align: right;\">\n",
       "      <th></th>\n",
       "      <th>loan_status</th>\n",
       "      <th>Principal</th>\n",
       "      <th>terms</th>\n",
       "      <th>age</th>\n",
       "      <th>education</th>\n",
       "      <th>Gender</th>\n",
       "    </tr>\n",
       "  </thead>\n",
       "  <tbody>\n",
       "    <tr>\n",
       "      <th>0</th>\n",
       "      <td>2</td>\n",
       "      <td>1000</td>\n",
       "      <td>30</td>\n",
       "      <td>45</td>\n",
       "      <td>1</td>\n",
       "      <td>1</td>\n",
       "    </tr>\n",
       "    <tr>\n",
       "      <th>1</th>\n",
       "      <td>2</td>\n",
       "      <td>1000</td>\n",
       "      <td>30</td>\n",
       "      <td>50</td>\n",
       "      <td>0</td>\n",
       "      <td>0</td>\n",
       "    </tr>\n",
       "    <tr>\n",
       "      <th>2</th>\n",
       "      <td>2</td>\n",
       "      <td>1000</td>\n",
       "      <td>30</td>\n",
       "      <td>33</td>\n",
       "      <td>0</td>\n",
       "      <td>0</td>\n",
       "    </tr>\n",
       "    <tr>\n",
       "      <th>3</th>\n",
       "      <td>2</td>\n",
       "      <td>1000</td>\n",
       "      <td>15</td>\n",
       "      <td>27</td>\n",
       "      <td>3</td>\n",
       "      <td>1</td>\n",
       "    </tr>\n",
       "    <tr>\n",
       "      <th>4</th>\n",
       "      <td>2</td>\n",
       "      <td>1000</td>\n",
       "      <td>30</td>\n",
       "      <td>28</td>\n",
       "      <td>3</td>\n",
       "      <td>0</td>\n",
       "    </tr>\n",
       "  </tbody>\n",
       "</table>\n",
       "</div>"
      ],
      "text/plain": [
       "   loan_status  Principal  terms  age  education  Gender\n",
       "0            2       1000     30   45          1       1\n",
       "1            2       1000     30   50          0       0\n",
       "2            2       1000     30   33          0       0\n",
       "3            2       1000     15   27          3       1\n",
       "4            2       1000     30   28          3       0"
      ]
     },
     "execution_count": 126,
     "metadata": {},
     "output_type": "execute_result"
    }
   ],
   "source": [
    "loan.head()"
   ]
  },
  {
   "cell_type": "markdown",
   "metadata": {},
   "source": [
    "#### Assigning X and Y"
   ]
  },
  {
   "cell_type": "code",
   "execution_count": 141,
   "metadata": {},
   "outputs": [],
   "source": [
    "X=loan.drop(['loan_status'],axis=1)\n",
    "y=loan['loan_status']\n"
   ]
  },
  {
   "cell_type": "code",
   "execution_count": 142,
   "metadata": {},
   "outputs": [
    {
     "name": "stdout",
     "output_type": "stream",
     "text": [
      "(375, 5)\n",
      "(375,)\n",
      "(125, 5)\n",
      "(125,)\n"
     ]
    }
   ],
   "source": [
    "from sklearn.model_selection import train_test_split\n",
    "\n",
    "X_train,X_test,y_train,y_test=train_test_split(X,y,test_size=0.25,random_state=999,stratify=y)\n",
    "\n",
    "print(X_train.shape)\n",
    "print(y_train.shape)\n",
    "print(X_test.shape)\n",
    "print(y_test.shape)"
   ]
  },
  {
   "cell_type": "code",
   "execution_count": 153,
   "metadata": {},
   "outputs": [
    {
     "name": "stdout",
     "output_type": "stream",
     "text": [
      "Fitting 5 folds for each of 78 candidates, totalling 390 fits\n"
     ]
    },
    {
     "name": "stderr",
     "output_type": "stream",
     "text": [
      "[Parallel(n_jobs=1)]: Using backend SequentialBackend with 1 concurrent workers.\n",
      "[Parallel(n_jobs=1)]: Done 390 out of 390 | elapsed:    5.0s finished\n"
     ]
    },
    {
     "data": {
      "text/plain": [
       "GridSearchCV(cv=StratifiedKFold(n_splits=5, random_state=999, shuffle=True),\n",
       "       error_score='raise-deprecating',\n",
       "       estimator=KNeighborsClassifier(algorithm='auto', leaf_size=30, metric='minkowski',\n",
       "           metric_params=None, n_jobs=None, n_neighbors=5, p=2,\n",
       "           weights='uniform'),\n",
       "       fit_params=None, iid='warn', n_jobs=None,\n",
       "       param_grid={'n_neighbors': array([ 1,  2,  3,  4,  5,  6,  7,  8,  9, 10, 11, 12, 13, 14, 15, 16, 17,\n",
       "       18, 19, 20, 21, 22, 23, 24, 25, 26, 27, 28, 29, 30, 31, 32, 33, 34,\n",
       "       35, 36, 37, 38, 39]), 'p': [1, 2]},\n",
       "       pre_dispatch='2*n_jobs', refit=True, return_train_score='warn',\n",
       "       scoring=None, verbose=1)"
      ]
     },
     "execution_count": 153,
     "metadata": {},
     "output_type": "execute_result"
    }
   ],
   "source": [
    "params_knn={'n_neighbors':np.arange(1,40,1),'p':[1,2]}\n",
    "\n",
    "knn=GridSearchCV(estimator=KNeighborsClassifier(),\n",
    "                param_grid=params_knn,\n",
    "                cv=cv_method,\n",
    "                verbose=1)\n",
    "\n",
    "knn.fit(X_train,y_train)"
   ]
  },
  {
   "cell_type": "code",
   "execution_count": 154,
   "metadata": {},
   "outputs": [
    {
     "data": {
      "text/plain": [
       "{'n_neighbors': 21, 'p': 1}"
      ]
     },
     "execution_count": 154,
     "metadata": {},
     "output_type": "execute_result"
    }
   ],
   "source": [
    "knn.best_params_"
   ]
  },
  {
   "cell_type": "code",
   "execution_count": 155,
   "metadata": {},
   "outputs": [
    {
     "data": {
      "text/plain": [
       "0.6106666666666667"
      ]
     },
     "execution_count": 155,
     "metadata": {},
     "output_type": "execute_result"
    }
   ],
   "source": [
    "knn.best_score_"
   ]
  },
  {
   "cell_type": "code",
   "execution_count": 146,
   "metadata": {},
   "outputs": [],
   "source": [
    "from sklearn.model_selection import StratifiedKFold, GridSearchCV"
   ]
  },
  {
   "cell_type": "code",
   "execution_count": 144,
   "metadata": {},
   "outputs": [],
   "source": [
    "from sklearn.tree import DecisionTreeClassifier"
   ]
  },
  {
   "cell_type": "code",
   "execution_count": 149,
   "metadata": {},
   "outputs": [
    {
     "name": "stdout",
     "output_type": "stream",
     "text": [
      "Fitting 5 folds for each of 132 candidates, totalling 660 fits\n"
     ]
    },
    {
     "name": "stderr",
     "output_type": "stream",
     "text": [
      "[Parallel(n_jobs=1)]: Using backend SequentialBackend with 1 concurrent workers.\n",
      "[Parallel(n_jobs=1)]: Done 660 out of 660 | elapsed:    1.6s finished\n"
     ]
    },
    {
     "data": {
      "text/plain": [
       "GridSearchCV(cv=StratifiedKFold(n_splits=5, random_state=999, shuffle=True),\n",
       "       error_score='raise-deprecating',\n",
       "       estimator=DecisionTreeClassifier(class_weight=None, criterion='gini', max_depth=None,\n",
       "            max_features=None, max_leaf_nodes=None,\n",
       "            min_impurity_decrease=0.0, min_impurity_split=None,\n",
       "            min_samples_leaf=1, min_samples_split=2,\n",
       "            min_weight_fraction_leaf=0.0, presort=False, random_state=None,\n",
       "            splitter='best'),\n",
       "       fit_params=None, iid='warn', n_jobs=None,\n",
       "       param_grid={'criterion': ['gini', 'entropy'], 'splitter': ['best', 'random'], 'max_depth': array([ 1,  2,  3,  4,  5,  6,  7,  8,  9, 10, 11]), 'max_features': ['auto', 'sqrt', 'log2']},\n",
       "       pre_dispatch='2*n_jobs', refit=True, return_train_score='warn',\n",
       "       scoring=None, verbose=1)"
      ]
     },
     "execution_count": 149,
     "metadata": {},
     "output_type": "execute_result"
    }
   ],
   "source": [
    "scoring_metric='roc_auc'\n",
    "\n",
    "cv_method = StratifiedKFold(n_splits=5, shuffle=True, random_state=999)\n",
    "\n",
    "params_DecisionTree={'criterion':['gini','entropy'],'splitter':['best','random'],'max_depth':np.arange(1,12,1),\n",
    "                    'max_features':['auto','sqrt','log2']}\n",
    "\n",
    "dt=GridSearchCV(estimator=DecisionTreeClassifier(),\n",
    "                param_grid=params_DecisionTree,\n",
    "                cv=cv_method,\n",
    "                verbose=1)\n",
    "\n",
    "dt.fit(X_train,y_train)"
   ]
  },
  {
   "cell_type": "code",
   "execution_count": 150,
   "metadata": {},
   "outputs": [
    {
     "data": {
      "text/plain": [
       "{'criterion': 'entropy',\n",
       " 'max_depth': 3,\n",
       " 'max_features': 'auto',\n",
       " 'splitter': 'random'}"
      ]
     },
     "execution_count": 150,
     "metadata": {},
     "output_type": "execute_result"
    }
   ],
   "source": [
    "dt.best_params_"
   ]
  },
  {
   "cell_type": "code",
   "execution_count": 151,
   "metadata": {},
   "outputs": [
    {
     "data": {
      "text/plain": [
       "0.6026666666666667"
      ]
     },
     "execution_count": 151,
     "metadata": {},
     "output_type": "execute_result"
    }
   ],
   "source": [
    "dt.best_score_"
   ]
  },
  {
   "cell_type": "code",
   "execution_count": null,
   "metadata": {},
   "outputs": [],
   "source": []
  }
 ],
 "metadata": {
  "kernelspec": {
   "display_name": "Python 3",
   "language": "python",
   "name": "python3"
  },
  "language_info": {
   "codemirror_mode": {
    "name": "ipython",
    "version": 3
   },
   "file_extension": ".py",
   "mimetype": "text/x-python",
   "name": "python",
   "nbconvert_exporter": "python",
   "pygments_lexer": "ipython3",
   "version": "3.7.3"
  }
 },
 "nbformat": 4,
 "nbformat_minor": 2
}
